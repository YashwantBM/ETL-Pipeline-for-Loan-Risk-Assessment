{
 "cells": [
  {
   "cell_type": "code",
   "execution_count": 1,
   "id": "cb046402",
   "metadata": {},
   "outputs": [],
   "source": [
    "from pyspark.sql import SparkSession\n",
    "import getpass \n",
    "username=getpass.getuser()\n",
    "spark=SparkSession. \\\n",
    "    builder. \\\n",
    "    config('spark.ui.port','0'). \\\n",
    "    config(\"spark.sql.warehouse.dir\", f\"/user/{username}/warehouse\"). \\\n",
    "    config('spark.shuffle.useOldFetchProtocol', 'true'). \\\n",
    "    enableHiveSupport(). \\\n",
    "    master('yarn'). \\\n",
    "    getOrCreate()"
   ]
  },
  {
   "cell_type": "code",
   "execution_count": 2,
   "id": "3916434e",
   "metadata": {},
   "outputs": [],
   "source": [
    "loans_rawdf = spark.read \\\n",
    ".option(\"Header\", True) \\\n",
    ".option(\"inferSchema\", True) \\\n",
    ".format(\"csv\") \\\n",
    ".load(\"/public/trendytech/lendingclubproject/raw/loans_data_csv\")"
   ]
  },
  {
   "cell_type": "code",
   "execution_count": 3,
   "id": "d72bf91a",
   "metadata": {},
   "outputs": [
    {
     "data": {
      "text/html": [
       "<table border='1'>\n",
       "<tr><th>loan_id</th><th>member_id</th><th>loan_amnt</th><th>funded_amnt</th><th>term</th><th>int_rate</th><th>installment</th><th>issue_d</th><th>loan_status</th><th>purpose</th><th>title</th></tr>\n",
       "<tr><td>56633077</td><td>b59d80da191f5b573...</td><td>3000.0</td><td>3000.0</td><td>36 months</td><td>7.89</td><td>93.86</td><td>Aug-2015</td><td>Fully Paid</td><td>credit_card</td><td>Credit card refin...</td></tr>\n",
       "<tr><td>55927518</td><td>202d9f56ecb7c3bc9...</td><td>15600.0</td><td>15600.0</td><td>36 months</td><td>7.89</td><td>488.06</td><td>Aug-2015</td><td>Fully Paid</td><td>credit_card</td><td>Credit card refin...</td></tr>\n",
       "<tr><td>56473345</td><td>e5a140c0922b554b9...</td><td>20000.0</td><td>20000.0</td><td>36 months</td><td>9.17</td><td>637.58</td><td>Aug-2015</td><td>Fully Paid</td><td>debt_consolidation</td><td>Debt consolidation</td></tr>\n",
       "<tr><td>56463188</td><td>e12aefc548f750777...</td><td>11200.0</td><td>11200.0</td><td>60 months</td><td>21.99</td><td>309.27</td><td>Aug-2015</td><td>Fully Paid</td><td>home_improvement</td><td>Home improvement</td></tr>\n",
       "<tr><td>56473316</td><td>1b3a50d854fbbf97e...</td><td>16000.0</td><td>16000.0</td><td>60 months</td><td>20.99</td><td>432.77</td><td>Aug-2015</td><td>Charged Off</td><td>debt_consolidation</td><td>Debt consolidation</td></tr>\n",
       "<tr><td>56663266</td><td>1c4329e5f17697127...</td><td>20000.0</td><td>20000.0</td><td>60 months</td><td>13.33</td><td>458.45</td><td>Aug-2015</td><td>Charged Off</td><td>debt_consolidation</td><td>Debt consolidation</td></tr>\n",
       "<tr><td>56483027</td><td>5026c86ad983175eb...</td><td>10000.0</td><td>10000.0</td><td>36 months</td><td>12.69</td><td>335.45</td><td>Aug-2015</td><td>Fully Paid</td><td>other</td><td>Other</td></tr>\n",
       "<tr><td>56613385</td><td>9847d8c1e9d0b2084...</td><td>23400.0</td><td>23400.0</td><td>60 months</td><td>19.19</td><td>609.46</td><td>Aug-2015</td><td>Current</td><td>small_business</td><td>Business</td></tr>\n",
       "<tr><td>56643620</td><td>8340dbe1adea41fb4...</td><td>16000.0</td><td>16000.0</td><td>36 months</td><td>5.32</td><td>481.84</td><td>Jul-2015</td><td>Fully Paid</td><td>debt_consolidation</td><td>Debt consolidation</td></tr>\n",
       "<tr><td>56533114</td><td>d4de0de3ab7d79ad4...</td><td>25450.0</td><td>25450.0</td><td>36 months</td><td>27.31</td><td>1043.24</td><td>Aug-2015</td><td>Charged Off</td><td>debt_consolidation</td><td>Debt consolidation</td></tr>\n",
       "<tr><td>56984127</td><td>3df3cdeddb74a8712...</td><td>24000.0</td><td>24000.0</td><td>36 months</td><td>7.89</td><td>750.86</td><td>Aug-2015</td><td>Fully Paid</td><td>debt_consolidation</td><td>Debt consolidation</td></tr>\n",
       "<tr><td>56131038</td><td>9dd72636b1b4045b4...</td><td>12000.0</td><td>12000.0</td><td>60 months</td><td>15.61</td><td>289.34</td><td>Aug-2015</td><td>Current</td><td>credit_card</td><td>Credit card refin...</td></tr>\n",
       "<tr><td>56452581</td><td>1d4e1ef4353b73c00...</td><td>25000.0</td><td>25000.0</td><td>36 months</td><td>13.33</td><td>846.33</td><td>Jul-2015</td><td>Fully Paid</td><td>home_improvement</td><td>Home improvement</td></tr>\n",
       "<tr><td>56685321</td><td>6f196952e71277fd4...</td><td>35000.0</td><td>35000.0</td><td>60 months</td><td>18.55</td><td>899.28</td><td>Aug-2015</td><td>Charged Off</td><td>small_business</td><td>Business</td></tr>\n",
       "<tr><td>56563360</td><td>9c617cbc6e3e3d6a1...</td><td>25000.0</td><td>25000.0</td><td>60 months</td><td>21.99</td><td>690.34</td><td>Aug-2015</td><td>Current</td><td>credit_card</td><td>Credit card refin...</td></tr>\n",
       "<tr><td>56533113</td><td>45eb04dd75400a942...</td><td>20000.0</td><td>20000.0</td><td>36 months</td><td>13.99</td><td>683.46</td><td>Aug-2015</td><td>Fully Paid</td><td>debt_consolidation</td><td>Debt consolidation</td></tr>\n",
       "<tr><td>56904118</td><td>08d233c81f9e50726...</td><td>9525.0</td><td>9525.0</td><td>36 months</td><td>12.29</td><td>317.69</td><td>Aug-2015</td><td>Charged Off</td><td>debt_consolidation</td><td>Debt consolidation</td></tr>\n",
       "<tr><td>56473361</td><td>8ff4d0ed17a1cab92...</td><td>4200.0</td><td>4200.0</td><td>36 months</td><td>15.61</td><td>146.86</td><td>Aug-2015</td><td>Fully Paid</td><td>credit_card</td><td>Credit card refin...</td></tr>\n",
       "<tr><td>56021410</td><td>aec13cfd611b2cfea...</td><td>8625.0</td><td>8625.0</td><td>36 months</td><td>16.55</td><td>305.58</td><td>Aug-2015</td><td>Fully Paid</td><td>debt_consolidation</td><td>Debt consolidation</td></tr>\n",
       "<tr><td>56473332</td><td>9ba8c96ccba6cd1f0...</td><td>19000.0</td><td>19000.0</td><td>60 months</td><td>17.57</td><td>478.05</td><td>Jul-2015</td><td>Current</td><td>credit_card</td><td>Credit card refin...</td></tr>\n",
       "</table>\n",
       "only showing top 20 rows\n"
      ],
      "text/plain": [
       "+--------+--------------------+---------+-----------+---------+--------+-----------+--------+-----------+------------------+--------------------+\n",
       "| loan_id|           member_id|loan_amnt|funded_amnt|     term|int_rate|installment| issue_d|loan_status|           purpose|               title|\n",
       "+--------+--------------------+---------+-----------+---------+--------+-----------+--------+-----------+------------------+--------------------+\n",
       "|56633077|b59d80da191f5b573...|   3000.0|     3000.0|36 months|    7.89|      93.86|Aug-2015| Fully Paid|       credit_card|Credit card refin...|\n",
       "|55927518|202d9f56ecb7c3bc9...|  15600.0|    15600.0|36 months|    7.89|     488.06|Aug-2015| Fully Paid|       credit_card|Credit card refin...|\n",
       "|56473345|e5a140c0922b554b9...|  20000.0|    20000.0|36 months|    9.17|     637.58|Aug-2015| Fully Paid|debt_consolidation|  Debt consolidation|\n",
       "|56463188|e12aefc548f750777...|  11200.0|    11200.0|60 months|   21.99|     309.27|Aug-2015| Fully Paid|  home_improvement|    Home improvement|\n",
       "|56473316|1b3a50d854fbbf97e...|  16000.0|    16000.0|60 months|   20.99|     432.77|Aug-2015|Charged Off|debt_consolidation|  Debt consolidation|\n",
       "|56663266|1c4329e5f17697127...|  20000.0|    20000.0|60 months|   13.33|     458.45|Aug-2015|Charged Off|debt_consolidation|  Debt consolidation|\n",
       "|56483027|5026c86ad983175eb...|  10000.0|    10000.0|36 months|   12.69|     335.45|Aug-2015| Fully Paid|             other|               Other|\n",
       "|56613385|9847d8c1e9d0b2084...|  23400.0|    23400.0|60 months|   19.19|     609.46|Aug-2015|    Current|    small_business|            Business|\n",
       "|56643620|8340dbe1adea41fb4...|  16000.0|    16000.0|36 months|    5.32|     481.84|Jul-2015| Fully Paid|debt_consolidation|  Debt consolidation|\n",
       "|56533114|d4de0de3ab7d79ad4...|  25450.0|    25450.0|36 months|   27.31|    1043.24|Aug-2015|Charged Off|debt_consolidation|  Debt consolidation|\n",
       "|56984127|3df3cdeddb74a8712...|  24000.0|    24000.0|36 months|    7.89|     750.86|Aug-2015| Fully Paid|debt_consolidation|  Debt consolidation|\n",
       "|56131038|9dd72636b1b4045b4...|  12000.0|    12000.0|60 months|   15.61|     289.34|Aug-2015|    Current|       credit_card|Credit card refin...|\n",
       "|56452581|1d4e1ef4353b73c00...|  25000.0|    25000.0|36 months|   13.33|     846.33|Jul-2015| Fully Paid|  home_improvement|    Home improvement|\n",
       "|56685321|6f196952e71277fd4...|  35000.0|    35000.0|60 months|   18.55|     899.28|Aug-2015|Charged Off|    small_business|            Business|\n",
       "|56563360|9c617cbc6e3e3d6a1...|  25000.0|    25000.0|60 months|   21.99|     690.34|Aug-2015|    Current|       credit_card|Credit card refin...|\n",
       "|56533113|45eb04dd75400a942...|  20000.0|    20000.0|36 months|   13.99|     683.46|Aug-2015| Fully Paid|debt_consolidation|  Debt consolidation|\n",
       "|56904118|08d233c81f9e50726...|   9525.0|     9525.0|36 months|   12.29|     317.69|Aug-2015|Charged Off|debt_consolidation|  Debt consolidation|\n",
       "|56473361|8ff4d0ed17a1cab92...|   4200.0|     4200.0|36 months|   15.61|     146.86|Aug-2015| Fully Paid|       credit_card|Credit card refin...|\n",
       "|56021410|aec13cfd611b2cfea...|   8625.0|     8625.0|36 months|   16.55|     305.58|Aug-2015| Fully Paid|debt_consolidation|  Debt consolidation|\n",
       "|56473332|9ba8c96ccba6cd1f0...|  19000.0|    19000.0|60 months|   17.57|     478.05|Jul-2015|    Current|       credit_card|Credit card refin...|\n",
       "+--------+--------------------+---------+-----------+---------+--------+-----------+--------+-----------+------------------+--------------------+\n",
       "only showing top 20 rows"
      ]
     },
     "execution_count": 3,
     "metadata": {},
     "output_type": "execute_result"
    }
   ],
   "source": [
    "loans_rawdf"
   ]
  },
  {
   "cell_type": "code",
   "execution_count": 4,
   "id": "1101bc51",
   "metadata": {},
   "outputs": [],
   "source": [
    "loans_schema = 'loan_id string, member_id string, loan_amount float, funded_amount float, loan_term_months string, interest_rate float, monthly_installment float, issue_date string, loan_status string, loan_purpose string, loan_title string'"
   ]
  },
  {
   "cell_type": "code",
   "execution_count": 5,
   "id": "0b0a5c17",
   "metadata": {},
   "outputs": [],
   "source": [
    "loans_rawdf = spark.read \\\n",
    ".option(\"Header\",True) \\\n",
    ".schema(loans_schema) \\\n",
    ".format(\"csv\") \\\n",
    ".load(\"/public/trendytech/lendingclubproject/raw/loans_data_csv\")"
   ]
  },
  {
   "cell_type": "code",
   "execution_count": 6,
   "id": "1a55d8ec",
   "metadata": {},
   "outputs": [
    {
     "name": "stdout",
     "output_type": "stream",
     "text": [
      "root\n",
      " |-- loan_id: string (nullable = true)\n",
      " |-- member_id: string (nullable = true)\n",
      " |-- loan_amount: float (nullable = true)\n",
      " |-- funded_amount: float (nullable = true)\n",
      " |-- loan_term_months: string (nullable = true)\n",
      " |-- interest_rate: float (nullable = true)\n",
      " |-- monthly_installment: float (nullable = true)\n",
      " |-- issue_date: string (nullable = true)\n",
      " |-- loan_status: string (nullable = true)\n",
      " |-- loan_purpose: string (nullable = true)\n",
      " |-- loan_title: string (nullable = true)\n",
      "\n"
     ]
    }
   ],
   "source": [
    "loans_rawdf.printSchema()"
   ]
  },
  {
   "cell_type": "code",
   "execution_count": 7,
   "id": "60a79714",
   "metadata": {},
   "outputs": [],
   "source": [
    "from pyspark.sql.functions import current_timestamp"
   ]
  },
  {
   "cell_type": "code",
   "execution_count": 8,
   "id": "5022208c",
   "metadata": {},
   "outputs": [],
   "source": [
    "loans_dfingested = loans_rawdf.withColumn(\"ingest_date\", current_timestamp())"
   ]
  },
  {
   "cell_type": "code",
   "execution_count": 9,
   "id": "e11ffcd3",
   "metadata": {},
   "outputs": [
    {
     "data": {
      "text/html": [
       "<table border='1'>\n",
       "<tr><th>loan_id</th><th>member_id</th><th>loan_amount</th><th>funded_amount</th><th>loan_term_months</th><th>interest_rate</th><th>monthly_installment</th><th>issue_date</th><th>loan_status</th><th>loan_purpose</th><th>loan_title</th><th>ingest_date</th></tr>\n",
       "<tr><td>56633077</td><td>b59d80da191f5b573...</td><td>3000.0</td><td>3000.0</td><td>36 months</td><td>7.89</td><td>93.86</td><td>Aug-2015</td><td>Fully Paid</td><td>credit_card</td><td>Credit card refin...</td><td>2025-01-09 07:17:...</td></tr>\n",
       "<tr><td>55927518</td><td>202d9f56ecb7c3bc9...</td><td>15600.0</td><td>15600.0</td><td>36 months</td><td>7.89</td><td>488.06</td><td>Aug-2015</td><td>Fully Paid</td><td>credit_card</td><td>Credit card refin...</td><td>2025-01-09 07:17:...</td></tr>\n",
       "<tr><td>56473345</td><td>e5a140c0922b554b9...</td><td>20000.0</td><td>20000.0</td><td>36 months</td><td>9.17</td><td>637.58</td><td>Aug-2015</td><td>Fully Paid</td><td>debt_consolidation</td><td>Debt consolidation</td><td>2025-01-09 07:17:...</td></tr>\n",
       "<tr><td>56463188</td><td>e12aefc548f750777...</td><td>11200.0</td><td>11200.0</td><td>60 months</td><td>21.99</td><td>309.27</td><td>Aug-2015</td><td>Fully Paid</td><td>home_improvement</td><td>Home improvement</td><td>2025-01-09 07:17:...</td></tr>\n",
       "<tr><td>56473316</td><td>1b3a50d854fbbf97e...</td><td>16000.0</td><td>16000.0</td><td>60 months</td><td>20.99</td><td>432.77</td><td>Aug-2015</td><td>Charged Off</td><td>debt_consolidation</td><td>Debt consolidation</td><td>2025-01-09 07:17:...</td></tr>\n",
       "<tr><td>56663266</td><td>1c4329e5f17697127...</td><td>20000.0</td><td>20000.0</td><td>60 months</td><td>13.33</td><td>458.45</td><td>Aug-2015</td><td>Charged Off</td><td>debt_consolidation</td><td>Debt consolidation</td><td>2025-01-09 07:17:...</td></tr>\n",
       "<tr><td>56483027</td><td>5026c86ad983175eb...</td><td>10000.0</td><td>10000.0</td><td>36 months</td><td>12.69</td><td>335.45</td><td>Aug-2015</td><td>Fully Paid</td><td>other</td><td>Other</td><td>2025-01-09 07:17:...</td></tr>\n",
       "<tr><td>56613385</td><td>9847d8c1e9d0b2084...</td><td>23400.0</td><td>23400.0</td><td>60 months</td><td>19.19</td><td>609.46</td><td>Aug-2015</td><td>Current</td><td>small_business</td><td>Business</td><td>2025-01-09 07:17:...</td></tr>\n",
       "<tr><td>56643620</td><td>8340dbe1adea41fb4...</td><td>16000.0</td><td>16000.0</td><td>36 months</td><td>5.32</td><td>481.84</td><td>Jul-2015</td><td>Fully Paid</td><td>debt_consolidation</td><td>Debt consolidation</td><td>2025-01-09 07:17:...</td></tr>\n",
       "<tr><td>56533114</td><td>d4de0de3ab7d79ad4...</td><td>25450.0</td><td>25450.0</td><td>36 months</td><td>27.31</td><td>1043.24</td><td>Aug-2015</td><td>Charged Off</td><td>debt_consolidation</td><td>Debt consolidation</td><td>2025-01-09 07:17:...</td></tr>\n",
       "<tr><td>56984127</td><td>3df3cdeddb74a8712...</td><td>24000.0</td><td>24000.0</td><td>36 months</td><td>7.89</td><td>750.86</td><td>Aug-2015</td><td>Fully Paid</td><td>debt_consolidation</td><td>Debt consolidation</td><td>2025-01-09 07:17:...</td></tr>\n",
       "<tr><td>56131038</td><td>9dd72636b1b4045b4...</td><td>12000.0</td><td>12000.0</td><td>60 months</td><td>15.61</td><td>289.34</td><td>Aug-2015</td><td>Current</td><td>credit_card</td><td>Credit card refin...</td><td>2025-01-09 07:17:...</td></tr>\n",
       "<tr><td>56452581</td><td>1d4e1ef4353b73c00...</td><td>25000.0</td><td>25000.0</td><td>36 months</td><td>13.33</td><td>846.33</td><td>Jul-2015</td><td>Fully Paid</td><td>home_improvement</td><td>Home improvement</td><td>2025-01-09 07:17:...</td></tr>\n",
       "<tr><td>56685321</td><td>6f196952e71277fd4...</td><td>35000.0</td><td>35000.0</td><td>60 months</td><td>18.55</td><td>899.28</td><td>Aug-2015</td><td>Charged Off</td><td>small_business</td><td>Business</td><td>2025-01-09 07:17:...</td></tr>\n",
       "<tr><td>56563360</td><td>9c617cbc6e3e3d6a1...</td><td>25000.0</td><td>25000.0</td><td>60 months</td><td>21.99</td><td>690.34</td><td>Aug-2015</td><td>Current</td><td>credit_card</td><td>Credit card refin...</td><td>2025-01-09 07:17:...</td></tr>\n",
       "<tr><td>56533113</td><td>45eb04dd75400a942...</td><td>20000.0</td><td>20000.0</td><td>36 months</td><td>13.99</td><td>683.46</td><td>Aug-2015</td><td>Fully Paid</td><td>debt_consolidation</td><td>Debt consolidation</td><td>2025-01-09 07:17:...</td></tr>\n",
       "<tr><td>56904118</td><td>08d233c81f9e50726...</td><td>9525.0</td><td>9525.0</td><td>36 months</td><td>12.29</td><td>317.69</td><td>Aug-2015</td><td>Charged Off</td><td>debt_consolidation</td><td>Debt consolidation</td><td>2025-01-09 07:17:...</td></tr>\n",
       "<tr><td>56473361</td><td>8ff4d0ed17a1cab92...</td><td>4200.0</td><td>4200.0</td><td>36 months</td><td>15.61</td><td>146.86</td><td>Aug-2015</td><td>Fully Paid</td><td>credit_card</td><td>Credit card refin...</td><td>2025-01-09 07:17:...</td></tr>\n",
       "<tr><td>56021410</td><td>aec13cfd611b2cfea...</td><td>8625.0</td><td>8625.0</td><td>36 months</td><td>16.55</td><td>305.58</td><td>Aug-2015</td><td>Fully Paid</td><td>debt_consolidation</td><td>Debt consolidation</td><td>2025-01-09 07:17:...</td></tr>\n",
       "<tr><td>56473332</td><td>9ba8c96ccba6cd1f0...</td><td>19000.0</td><td>19000.0</td><td>60 months</td><td>17.57</td><td>478.05</td><td>Jul-2015</td><td>Current</td><td>credit_card</td><td>Credit card refin...</td><td>2025-01-09 07:17:...</td></tr>\n",
       "</table>\n",
       "only showing top 20 rows\n"
      ],
      "text/plain": [
       "+--------+--------------------+-----------+-------------+----------------+-------------+-------------------+----------+-----------+------------------+--------------------+--------------------+\n",
       "| loan_id|           member_id|loan_amount|funded_amount|loan_term_months|interest_rate|monthly_installment|issue_date|loan_status|      loan_purpose|          loan_title|         ingest_date|\n",
       "+--------+--------------------+-----------+-------------+----------------+-------------+-------------------+----------+-----------+------------------+--------------------+--------------------+\n",
       "|56633077|b59d80da191f5b573...|     3000.0|       3000.0|       36 months|         7.89|              93.86|  Aug-2015| Fully Paid|       credit_card|Credit card refin...|2025-01-09 07:17:...|\n",
       "|55927518|202d9f56ecb7c3bc9...|    15600.0|      15600.0|       36 months|         7.89|             488.06|  Aug-2015| Fully Paid|       credit_card|Credit card refin...|2025-01-09 07:17:...|\n",
       "|56473345|e5a140c0922b554b9...|    20000.0|      20000.0|       36 months|         9.17|             637.58|  Aug-2015| Fully Paid|debt_consolidation|  Debt consolidation|2025-01-09 07:17:...|\n",
       "|56463188|e12aefc548f750777...|    11200.0|      11200.0|       60 months|        21.99|             309.27|  Aug-2015| Fully Paid|  home_improvement|    Home improvement|2025-01-09 07:17:...|\n",
       "|56473316|1b3a50d854fbbf97e...|    16000.0|      16000.0|       60 months|        20.99|             432.77|  Aug-2015|Charged Off|debt_consolidation|  Debt consolidation|2025-01-09 07:17:...|\n",
       "|56663266|1c4329e5f17697127...|    20000.0|      20000.0|       60 months|        13.33|             458.45|  Aug-2015|Charged Off|debt_consolidation|  Debt consolidation|2025-01-09 07:17:...|\n",
       "|56483027|5026c86ad983175eb...|    10000.0|      10000.0|       36 months|        12.69|             335.45|  Aug-2015| Fully Paid|             other|               Other|2025-01-09 07:17:...|\n",
       "|56613385|9847d8c1e9d0b2084...|    23400.0|      23400.0|       60 months|        19.19|             609.46|  Aug-2015|    Current|    small_business|            Business|2025-01-09 07:17:...|\n",
       "|56643620|8340dbe1adea41fb4...|    16000.0|      16000.0|       36 months|         5.32|             481.84|  Jul-2015| Fully Paid|debt_consolidation|  Debt consolidation|2025-01-09 07:17:...|\n",
       "|56533114|d4de0de3ab7d79ad4...|    25450.0|      25450.0|       36 months|        27.31|            1043.24|  Aug-2015|Charged Off|debt_consolidation|  Debt consolidation|2025-01-09 07:17:...|\n",
       "|56984127|3df3cdeddb74a8712...|    24000.0|      24000.0|       36 months|         7.89|             750.86|  Aug-2015| Fully Paid|debt_consolidation|  Debt consolidation|2025-01-09 07:17:...|\n",
       "|56131038|9dd72636b1b4045b4...|    12000.0|      12000.0|       60 months|        15.61|             289.34|  Aug-2015|    Current|       credit_card|Credit card refin...|2025-01-09 07:17:...|\n",
       "|56452581|1d4e1ef4353b73c00...|    25000.0|      25000.0|       36 months|        13.33|             846.33|  Jul-2015| Fully Paid|  home_improvement|    Home improvement|2025-01-09 07:17:...|\n",
       "|56685321|6f196952e71277fd4...|    35000.0|      35000.0|       60 months|        18.55|             899.28|  Aug-2015|Charged Off|    small_business|            Business|2025-01-09 07:17:...|\n",
       "|56563360|9c617cbc6e3e3d6a1...|    25000.0|      25000.0|       60 months|        21.99|             690.34|  Aug-2015|    Current|       credit_card|Credit card refin...|2025-01-09 07:17:...|\n",
       "|56533113|45eb04dd75400a942...|    20000.0|      20000.0|       36 months|        13.99|             683.46|  Aug-2015| Fully Paid|debt_consolidation|  Debt consolidation|2025-01-09 07:17:...|\n",
       "|56904118|08d233c81f9e50726...|     9525.0|       9525.0|       36 months|        12.29|             317.69|  Aug-2015|Charged Off|debt_consolidation|  Debt consolidation|2025-01-09 07:17:...|\n",
       "|56473361|8ff4d0ed17a1cab92...|     4200.0|       4200.0|       36 months|        15.61|             146.86|  Aug-2015| Fully Paid|       credit_card|Credit card refin...|2025-01-09 07:17:...|\n",
       "|56021410|aec13cfd611b2cfea...|     8625.0|       8625.0|       36 months|        16.55|             305.58|  Aug-2015| Fully Paid|debt_consolidation|  Debt consolidation|2025-01-09 07:17:...|\n",
       "|56473332|9ba8c96ccba6cd1f0...|    19000.0|      19000.0|       60 months|        17.57|             478.05|  Jul-2015|    Current|       credit_card|Credit card refin...|2025-01-09 07:17:...|\n",
       "+--------+--------------------+-----------+-------------+----------------+-------------+-------------------+----------+-----------+------------------+--------------------+--------------------+\n",
       "only showing top 20 rows"
      ]
     },
     "execution_count": 9,
     "metadata": {},
     "output_type": "execute_result"
    }
   ],
   "source": [
    "loans_dfingested"
   ]
  },
  {
   "cell_type": "code",
   "execution_count": 10,
   "id": "7838fbd7",
   "metadata": {},
   "outputs": [],
   "source": [
    "loans_dfingested.createOrReplaceTempView(\"loans\")"
   ]
  },
  {
   "cell_type": "code",
   "execution_count": 11,
   "id": "472cef2e",
   "metadata": {},
   "outputs": [
    {
     "data": {
      "text/html": [
       "<table border='1'>\n",
       "<tr><th>count(1)</th></tr>\n",
       "<tr><td>2260701</td></tr>\n",
       "</table>\n"
      ],
      "text/plain": [
       "+--------+\n",
       "|count(1)|\n",
       "+--------+\n",
       "| 2260701|\n",
       "+--------+"
      ]
     },
     "execution_count": 11,
     "metadata": {},
     "output_type": "execute_result"
    }
   ],
   "source": [
    "spark.sql(\"Select count(*) from loans\")"
   ]
  },
  {
   "cell_type": "code",
   "execution_count": 12,
   "id": "f2a17be0",
   "metadata": {},
   "outputs": [
    {
     "data": {
      "text/html": [
       "<table border='1'>\n",
       "<tr><th>loan_id</th><th>member_id</th><th>loan_amount</th><th>funded_amount</th><th>loan_term_months</th><th>interest_rate</th><th>monthly_installment</th><th>issue_date</th><th>loan_status</th><th>loan_purpose</th><th>loan_title</th><th>ingest_date</th></tr>\n",
       "<tr><td>56633077</td><td>b59d80da191f5b573...</td><td>3000.0</td><td>3000.0</td><td>36 months</td><td>7.89</td><td>93.86</td><td>Aug-2015</td><td>Fully Paid</td><td>credit_card</td><td>Credit card refin...</td><td>2025-01-09 07:17:...</td></tr>\n",
       "<tr><td>55927518</td><td>202d9f56ecb7c3bc9...</td><td>15600.0</td><td>15600.0</td><td>36 months</td><td>7.89</td><td>488.06</td><td>Aug-2015</td><td>Fully Paid</td><td>credit_card</td><td>Credit card refin...</td><td>2025-01-09 07:17:...</td></tr>\n",
       "<tr><td>56473345</td><td>e5a140c0922b554b9...</td><td>20000.0</td><td>20000.0</td><td>36 months</td><td>9.17</td><td>637.58</td><td>Aug-2015</td><td>Fully Paid</td><td>debt_consolidation</td><td>Debt consolidation</td><td>2025-01-09 07:17:...</td></tr>\n",
       "<tr><td>56463188</td><td>e12aefc548f750777...</td><td>11200.0</td><td>11200.0</td><td>60 months</td><td>21.99</td><td>309.27</td><td>Aug-2015</td><td>Fully Paid</td><td>home_improvement</td><td>Home improvement</td><td>2025-01-09 07:17:...</td></tr>\n",
       "<tr><td>56473316</td><td>1b3a50d854fbbf97e...</td><td>16000.0</td><td>16000.0</td><td>60 months</td><td>20.99</td><td>432.77</td><td>Aug-2015</td><td>Charged Off</td><td>debt_consolidation</td><td>Debt consolidation</td><td>2025-01-09 07:17:...</td></tr>\n",
       "<tr><td>56663266</td><td>1c4329e5f17697127...</td><td>20000.0</td><td>20000.0</td><td>60 months</td><td>13.33</td><td>458.45</td><td>Aug-2015</td><td>Charged Off</td><td>debt_consolidation</td><td>Debt consolidation</td><td>2025-01-09 07:17:...</td></tr>\n",
       "<tr><td>56483027</td><td>5026c86ad983175eb...</td><td>10000.0</td><td>10000.0</td><td>36 months</td><td>12.69</td><td>335.45</td><td>Aug-2015</td><td>Fully Paid</td><td>other</td><td>Other</td><td>2025-01-09 07:17:...</td></tr>\n",
       "<tr><td>56613385</td><td>9847d8c1e9d0b2084...</td><td>23400.0</td><td>23400.0</td><td>60 months</td><td>19.19</td><td>609.46</td><td>Aug-2015</td><td>Current</td><td>small_business</td><td>Business</td><td>2025-01-09 07:17:...</td></tr>\n",
       "<tr><td>56643620</td><td>8340dbe1adea41fb4...</td><td>16000.0</td><td>16000.0</td><td>36 months</td><td>5.32</td><td>481.84</td><td>Jul-2015</td><td>Fully Paid</td><td>debt_consolidation</td><td>Debt consolidation</td><td>2025-01-09 07:17:...</td></tr>\n",
       "<tr><td>56533114</td><td>d4de0de3ab7d79ad4...</td><td>25450.0</td><td>25450.0</td><td>36 months</td><td>27.31</td><td>1043.24</td><td>Aug-2015</td><td>Charged Off</td><td>debt_consolidation</td><td>Debt consolidation</td><td>2025-01-09 07:17:...</td></tr>\n",
       "<tr><td>56984127</td><td>3df3cdeddb74a8712...</td><td>24000.0</td><td>24000.0</td><td>36 months</td><td>7.89</td><td>750.86</td><td>Aug-2015</td><td>Fully Paid</td><td>debt_consolidation</td><td>Debt consolidation</td><td>2025-01-09 07:17:...</td></tr>\n",
       "<tr><td>56131038</td><td>9dd72636b1b4045b4...</td><td>12000.0</td><td>12000.0</td><td>60 months</td><td>15.61</td><td>289.34</td><td>Aug-2015</td><td>Current</td><td>credit_card</td><td>Credit card refin...</td><td>2025-01-09 07:17:...</td></tr>\n",
       "<tr><td>56452581</td><td>1d4e1ef4353b73c00...</td><td>25000.0</td><td>25000.0</td><td>36 months</td><td>13.33</td><td>846.33</td><td>Jul-2015</td><td>Fully Paid</td><td>home_improvement</td><td>Home improvement</td><td>2025-01-09 07:17:...</td></tr>\n",
       "<tr><td>56685321</td><td>6f196952e71277fd4...</td><td>35000.0</td><td>35000.0</td><td>60 months</td><td>18.55</td><td>899.28</td><td>Aug-2015</td><td>Charged Off</td><td>small_business</td><td>Business</td><td>2025-01-09 07:17:...</td></tr>\n",
       "<tr><td>56563360</td><td>9c617cbc6e3e3d6a1...</td><td>25000.0</td><td>25000.0</td><td>60 months</td><td>21.99</td><td>690.34</td><td>Aug-2015</td><td>Current</td><td>credit_card</td><td>Credit card refin...</td><td>2025-01-09 07:17:...</td></tr>\n",
       "<tr><td>56533113</td><td>45eb04dd75400a942...</td><td>20000.0</td><td>20000.0</td><td>36 months</td><td>13.99</td><td>683.46</td><td>Aug-2015</td><td>Fully Paid</td><td>debt_consolidation</td><td>Debt consolidation</td><td>2025-01-09 07:17:...</td></tr>\n",
       "<tr><td>56904118</td><td>08d233c81f9e50726...</td><td>9525.0</td><td>9525.0</td><td>36 months</td><td>12.29</td><td>317.69</td><td>Aug-2015</td><td>Charged Off</td><td>debt_consolidation</td><td>Debt consolidation</td><td>2025-01-09 07:17:...</td></tr>\n",
       "<tr><td>56473361</td><td>8ff4d0ed17a1cab92...</td><td>4200.0</td><td>4200.0</td><td>36 months</td><td>15.61</td><td>146.86</td><td>Aug-2015</td><td>Fully Paid</td><td>credit_card</td><td>Credit card refin...</td><td>2025-01-09 07:17:...</td></tr>\n",
       "<tr><td>56021410</td><td>aec13cfd611b2cfea...</td><td>8625.0</td><td>8625.0</td><td>36 months</td><td>16.55</td><td>305.58</td><td>Aug-2015</td><td>Fully Paid</td><td>debt_consolidation</td><td>Debt consolidation</td><td>2025-01-09 07:17:...</td></tr>\n",
       "<tr><td>56473332</td><td>9ba8c96ccba6cd1f0...</td><td>19000.0</td><td>19000.0</td><td>60 months</td><td>17.57</td><td>478.05</td><td>Jul-2015</td><td>Current</td><td>credit_card</td><td>Credit card refin...</td><td>2025-01-09 07:17:...</td></tr>\n",
       "</table>\n",
       "only showing top 20 rows\n"
      ],
      "text/plain": [
       "+--------+--------------------+-----------+-------------+----------------+-------------+-------------------+----------+-----------+------------------+--------------------+--------------------+\n",
       "| loan_id|           member_id|loan_amount|funded_amount|loan_term_months|interest_rate|monthly_installment|issue_date|loan_status|      loan_purpose|          loan_title|         ingest_date|\n",
       "+--------+--------------------+-----------+-------------+----------------+-------------+-------------------+----------+-----------+------------------+--------------------+--------------------+\n",
       "|56633077|b59d80da191f5b573...|     3000.0|       3000.0|       36 months|         7.89|              93.86|  Aug-2015| Fully Paid|       credit_card|Credit card refin...|2025-01-09 07:17:...|\n",
       "|55927518|202d9f56ecb7c3bc9...|    15600.0|      15600.0|       36 months|         7.89|             488.06|  Aug-2015| Fully Paid|       credit_card|Credit card refin...|2025-01-09 07:17:...|\n",
       "|56473345|e5a140c0922b554b9...|    20000.0|      20000.0|       36 months|         9.17|             637.58|  Aug-2015| Fully Paid|debt_consolidation|  Debt consolidation|2025-01-09 07:17:...|\n",
       "|56463188|e12aefc548f750777...|    11200.0|      11200.0|       60 months|        21.99|             309.27|  Aug-2015| Fully Paid|  home_improvement|    Home improvement|2025-01-09 07:17:...|\n",
       "|56473316|1b3a50d854fbbf97e...|    16000.0|      16000.0|       60 months|        20.99|             432.77|  Aug-2015|Charged Off|debt_consolidation|  Debt consolidation|2025-01-09 07:17:...|\n",
       "|56663266|1c4329e5f17697127...|    20000.0|      20000.0|       60 months|        13.33|             458.45|  Aug-2015|Charged Off|debt_consolidation|  Debt consolidation|2025-01-09 07:17:...|\n",
       "|56483027|5026c86ad983175eb...|    10000.0|      10000.0|       36 months|        12.69|             335.45|  Aug-2015| Fully Paid|             other|               Other|2025-01-09 07:17:...|\n",
       "|56613385|9847d8c1e9d0b2084...|    23400.0|      23400.0|       60 months|        19.19|             609.46|  Aug-2015|    Current|    small_business|            Business|2025-01-09 07:17:...|\n",
       "|56643620|8340dbe1adea41fb4...|    16000.0|      16000.0|       36 months|         5.32|             481.84|  Jul-2015| Fully Paid|debt_consolidation|  Debt consolidation|2025-01-09 07:17:...|\n",
       "|56533114|d4de0de3ab7d79ad4...|    25450.0|      25450.0|       36 months|        27.31|            1043.24|  Aug-2015|Charged Off|debt_consolidation|  Debt consolidation|2025-01-09 07:17:...|\n",
       "|56984127|3df3cdeddb74a8712...|    24000.0|      24000.0|       36 months|         7.89|             750.86|  Aug-2015| Fully Paid|debt_consolidation|  Debt consolidation|2025-01-09 07:17:...|\n",
       "|56131038|9dd72636b1b4045b4...|    12000.0|      12000.0|       60 months|        15.61|             289.34|  Aug-2015|    Current|       credit_card|Credit card refin...|2025-01-09 07:17:...|\n",
       "|56452581|1d4e1ef4353b73c00...|    25000.0|      25000.0|       36 months|        13.33|             846.33|  Jul-2015| Fully Paid|  home_improvement|    Home improvement|2025-01-09 07:17:...|\n",
       "|56685321|6f196952e71277fd4...|    35000.0|      35000.0|       60 months|        18.55|             899.28|  Aug-2015|Charged Off|    small_business|            Business|2025-01-09 07:17:...|\n",
       "|56563360|9c617cbc6e3e3d6a1...|    25000.0|      25000.0|       60 months|        21.99|             690.34|  Aug-2015|    Current|       credit_card|Credit card refin...|2025-01-09 07:17:...|\n",
       "|56533113|45eb04dd75400a942...|    20000.0|      20000.0|       36 months|        13.99|             683.46|  Aug-2015| Fully Paid|debt_consolidation|  Debt consolidation|2025-01-09 07:17:...|\n",
       "|56904118|08d233c81f9e50726...|     9525.0|       9525.0|       36 months|        12.29|             317.69|  Aug-2015|Charged Off|debt_consolidation|  Debt consolidation|2025-01-09 07:17:...|\n",
       "|56473361|8ff4d0ed17a1cab92...|     4200.0|       4200.0|       36 months|        15.61|             146.86|  Aug-2015| Fully Paid|       credit_card|Credit card refin...|2025-01-09 07:17:...|\n",
       "|56021410|aec13cfd611b2cfea...|     8625.0|       8625.0|       36 months|        16.55|             305.58|  Aug-2015| Fully Paid|debt_consolidation|  Debt consolidation|2025-01-09 07:17:...|\n",
       "|56473332|9ba8c96ccba6cd1f0...|    19000.0|      19000.0|       60 months|        17.57|             478.05|  Jul-2015|    Current|       credit_card|Credit card refin...|2025-01-09 07:17:...|\n",
       "+--------+--------------------+-----------+-------------+----------------+-------------+-------------------+----------+-----------+------------------+--------------------+--------------------+\n",
       "only showing top 20 rows"
      ]
     },
     "execution_count": 12,
     "metadata": {},
     "output_type": "execute_result"
    }
   ],
   "source": [
    "spark.sql(\"Select * from loans\")"
   ]
  },
  {
   "cell_type": "code",
   "execution_count": 13,
   "id": "35a62854",
   "metadata": {},
   "outputs": [
    {
     "data": {
      "text/html": [
       "<table border='1'>\n",
       "<tr><th>count(1)</th></tr>\n",
       "<tr><td>33</td></tr>\n",
       "</table>\n"
      ],
      "text/plain": [
       "+--------+\n",
       "|count(1)|\n",
       "+--------+\n",
       "|      33|\n",
       "+--------+"
      ]
     },
     "execution_count": 13,
     "metadata": {},
     "output_type": "execute_result"
    }
   ],
   "source": [
    "spark.sql(\"Select count(*) from loans where loan_amount is null\")"
   ]
  },
  {
   "cell_type": "code",
   "execution_count": 14,
   "id": "9749a198",
   "metadata": {},
   "outputs": [],
   "source": [
    "columns_to_check = [\"loan_amount\", \"funded_amount\", \"loan_term_months\", \"interest_rate\", \"monthly_installment\", \"issue_date\", \"loan_status\", \"loan_purpose\"]"
   ]
  },
  {
   "cell_type": "code",
   "execution_count": 15,
   "id": "2e350523",
   "metadata": {},
   "outputs": [],
   "source": [
    "loans_filtered = loans_dfingested.na.drop(subset=columns_to_check)"
   ]
  },
  {
   "cell_type": "code",
   "execution_count": 16,
   "id": "99efaa07",
   "metadata": {},
   "outputs": [
    {
     "data": {
      "text/plain": [
       "2260667"
      ]
     },
     "execution_count": 16,
     "metadata": {},
     "output_type": "execute_result"
    }
   ],
   "source": [
    "loans_filtered.count()"
   ]
  },
  {
   "cell_type": "code",
   "execution_count": 17,
   "id": "936f2d16",
   "metadata": {},
   "outputs": [],
   "source": [
    "loans_filtered.createOrReplaceTempView(\"loans\")"
   ]
  },
  {
   "cell_type": "code",
   "execution_count": 18,
   "id": "d81ef8df",
   "metadata": {},
   "outputs": [],
   "source": [
    "from pyspark.sql.functions import regexp_replace,col"
   ]
  },
  {
   "cell_type": "code",
   "execution_count": 19,
   "id": "dcf293d1",
   "metadata": {},
   "outputs": [],
   "source": [
    "loans_term_modified = loans_filtered.withColumn(\"loan_term_months\",(regexp_replace(col(\"loan_term_months\"),\"months\",\"\").cast(\"int\")/12).cast(\"int\")).withColumnRenamed(\"loan_term_months\",\"loan_term_years\")"
   ]
  },
  {
   "cell_type": "code",
   "execution_count": 20,
   "id": "a49aee84",
   "metadata": {},
   "outputs": [
    {
     "data": {
      "text/html": [
       "<table border='1'>\n",
       "<tr><th>loan_id</th><th>member_id</th><th>loan_amount</th><th>funded_amount</th><th>loan_term_years</th><th>interest_rate</th><th>monthly_installment</th><th>issue_date</th><th>loan_status</th><th>loan_purpose</th><th>loan_title</th><th>ingest_date</th></tr>\n",
       "<tr><td>56633077</td><td>b59d80da191f5b573...</td><td>3000.0</td><td>3000.0</td><td>3</td><td>7.89</td><td>93.86</td><td>Aug-2015</td><td>Fully Paid</td><td>credit_card</td><td>Credit card refin...</td><td>2025-01-09 07:17:...</td></tr>\n",
       "<tr><td>55927518</td><td>202d9f56ecb7c3bc9...</td><td>15600.0</td><td>15600.0</td><td>3</td><td>7.89</td><td>488.06</td><td>Aug-2015</td><td>Fully Paid</td><td>credit_card</td><td>Credit card refin...</td><td>2025-01-09 07:17:...</td></tr>\n",
       "<tr><td>56473345</td><td>e5a140c0922b554b9...</td><td>20000.0</td><td>20000.0</td><td>3</td><td>9.17</td><td>637.58</td><td>Aug-2015</td><td>Fully Paid</td><td>debt_consolidation</td><td>Debt consolidation</td><td>2025-01-09 07:17:...</td></tr>\n",
       "<tr><td>56463188</td><td>e12aefc548f750777...</td><td>11200.0</td><td>11200.0</td><td>5</td><td>21.99</td><td>309.27</td><td>Aug-2015</td><td>Fully Paid</td><td>home_improvement</td><td>Home improvement</td><td>2025-01-09 07:17:...</td></tr>\n",
       "<tr><td>56473316</td><td>1b3a50d854fbbf97e...</td><td>16000.0</td><td>16000.0</td><td>5</td><td>20.99</td><td>432.77</td><td>Aug-2015</td><td>Charged Off</td><td>debt_consolidation</td><td>Debt consolidation</td><td>2025-01-09 07:17:...</td></tr>\n",
       "<tr><td>56663266</td><td>1c4329e5f17697127...</td><td>20000.0</td><td>20000.0</td><td>5</td><td>13.33</td><td>458.45</td><td>Aug-2015</td><td>Charged Off</td><td>debt_consolidation</td><td>Debt consolidation</td><td>2025-01-09 07:17:...</td></tr>\n",
       "<tr><td>56483027</td><td>5026c86ad983175eb...</td><td>10000.0</td><td>10000.0</td><td>3</td><td>12.69</td><td>335.45</td><td>Aug-2015</td><td>Fully Paid</td><td>other</td><td>Other</td><td>2025-01-09 07:17:...</td></tr>\n",
       "<tr><td>56613385</td><td>9847d8c1e9d0b2084...</td><td>23400.0</td><td>23400.0</td><td>5</td><td>19.19</td><td>609.46</td><td>Aug-2015</td><td>Current</td><td>small_business</td><td>Business</td><td>2025-01-09 07:17:...</td></tr>\n",
       "<tr><td>56643620</td><td>8340dbe1adea41fb4...</td><td>16000.0</td><td>16000.0</td><td>3</td><td>5.32</td><td>481.84</td><td>Jul-2015</td><td>Fully Paid</td><td>debt_consolidation</td><td>Debt consolidation</td><td>2025-01-09 07:17:...</td></tr>\n",
       "<tr><td>56533114</td><td>d4de0de3ab7d79ad4...</td><td>25450.0</td><td>25450.0</td><td>3</td><td>27.31</td><td>1043.24</td><td>Aug-2015</td><td>Charged Off</td><td>debt_consolidation</td><td>Debt consolidation</td><td>2025-01-09 07:17:...</td></tr>\n",
       "<tr><td>56984127</td><td>3df3cdeddb74a8712...</td><td>24000.0</td><td>24000.0</td><td>3</td><td>7.89</td><td>750.86</td><td>Aug-2015</td><td>Fully Paid</td><td>debt_consolidation</td><td>Debt consolidation</td><td>2025-01-09 07:17:...</td></tr>\n",
       "<tr><td>56131038</td><td>9dd72636b1b4045b4...</td><td>12000.0</td><td>12000.0</td><td>5</td><td>15.61</td><td>289.34</td><td>Aug-2015</td><td>Current</td><td>credit_card</td><td>Credit card refin...</td><td>2025-01-09 07:17:...</td></tr>\n",
       "<tr><td>56452581</td><td>1d4e1ef4353b73c00...</td><td>25000.0</td><td>25000.0</td><td>3</td><td>13.33</td><td>846.33</td><td>Jul-2015</td><td>Fully Paid</td><td>home_improvement</td><td>Home improvement</td><td>2025-01-09 07:17:...</td></tr>\n",
       "<tr><td>56685321</td><td>6f196952e71277fd4...</td><td>35000.0</td><td>35000.0</td><td>5</td><td>18.55</td><td>899.28</td><td>Aug-2015</td><td>Charged Off</td><td>small_business</td><td>Business</td><td>2025-01-09 07:17:...</td></tr>\n",
       "<tr><td>56563360</td><td>9c617cbc6e3e3d6a1...</td><td>25000.0</td><td>25000.0</td><td>5</td><td>21.99</td><td>690.34</td><td>Aug-2015</td><td>Current</td><td>credit_card</td><td>Credit card refin...</td><td>2025-01-09 07:17:...</td></tr>\n",
       "<tr><td>56533113</td><td>45eb04dd75400a942...</td><td>20000.0</td><td>20000.0</td><td>3</td><td>13.99</td><td>683.46</td><td>Aug-2015</td><td>Fully Paid</td><td>debt_consolidation</td><td>Debt consolidation</td><td>2025-01-09 07:17:...</td></tr>\n",
       "<tr><td>56904118</td><td>08d233c81f9e50726...</td><td>9525.0</td><td>9525.0</td><td>3</td><td>12.29</td><td>317.69</td><td>Aug-2015</td><td>Charged Off</td><td>debt_consolidation</td><td>Debt consolidation</td><td>2025-01-09 07:17:...</td></tr>\n",
       "<tr><td>56473361</td><td>8ff4d0ed17a1cab92...</td><td>4200.0</td><td>4200.0</td><td>3</td><td>15.61</td><td>146.86</td><td>Aug-2015</td><td>Fully Paid</td><td>credit_card</td><td>Credit card refin...</td><td>2025-01-09 07:17:...</td></tr>\n",
       "<tr><td>56021410</td><td>aec13cfd611b2cfea...</td><td>8625.0</td><td>8625.0</td><td>3</td><td>16.55</td><td>305.58</td><td>Aug-2015</td><td>Fully Paid</td><td>debt_consolidation</td><td>Debt consolidation</td><td>2025-01-09 07:17:...</td></tr>\n",
       "<tr><td>56473332</td><td>9ba8c96ccba6cd1f0...</td><td>19000.0</td><td>19000.0</td><td>5</td><td>17.57</td><td>478.05</td><td>Jul-2015</td><td>Current</td><td>credit_card</td><td>Credit card refin...</td><td>2025-01-09 07:17:...</td></tr>\n",
       "</table>\n",
       "only showing top 20 rows\n"
      ],
      "text/plain": [
       "+--------+--------------------+-----------+-------------+---------------+-------------+-------------------+----------+-----------+------------------+--------------------+--------------------+\n",
       "| loan_id|           member_id|loan_amount|funded_amount|loan_term_years|interest_rate|monthly_installment|issue_date|loan_status|      loan_purpose|          loan_title|         ingest_date|\n",
       "+--------+--------------------+-----------+-------------+---------------+-------------+-------------------+----------+-----------+------------------+--------------------+--------------------+\n",
       "|56633077|b59d80da191f5b573...|     3000.0|       3000.0|              3|         7.89|              93.86|  Aug-2015| Fully Paid|       credit_card|Credit card refin...|2025-01-09 07:17:...|\n",
       "|55927518|202d9f56ecb7c3bc9...|    15600.0|      15600.0|              3|         7.89|             488.06|  Aug-2015| Fully Paid|       credit_card|Credit card refin...|2025-01-09 07:17:...|\n",
       "|56473345|e5a140c0922b554b9...|    20000.0|      20000.0|              3|         9.17|             637.58|  Aug-2015| Fully Paid|debt_consolidation|  Debt consolidation|2025-01-09 07:17:...|\n",
       "|56463188|e12aefc548f750777...|    11200.0|      11200.0|              5|        21.99|             309.27|  Aug-2015| Fully Paid|  home_improvement|    Home improvement|2025-01-09 07:17:...|\n",
       "|56473316|1b3a50d854fbbf97e...|    16000.0|      16000.0|              5|        20.99|             432.77|  Aug-2015|Charged Off|debt_consolidation|  Debt consolidation|2025-01-09 07:17:...|\n",
       "|56663266|1c4329e5f17697127...|    20000.0|      20000.0|              5|        13.33|             458.45|  Aug-2015|Charged Off|debt_consolidation|  Debt consolidation|2025-01-09 07:17:...|\n",
       "|56483027|5026c86ad983175eb...|    10000.0|      10000.0|              3|        12.69|             335.45|  Aug-2015| Fully Paid|             other|               Other|2025-01-09 07:17:...|\n",
       "|56613385|9847d8c1e9d0b2084...|    23400.0|      23400.0|              5|        19.19|             609.46|  Aug-2015|    Current|    small_business|            Business|2025-01-09 07:17:...|\n",
       "|56643620|8340dbe1adea41fb4...|    16000.0|      16000.0|              3|         5.32|             481.84|  Jul-2015| Fully Paid|debt_consolidation|  Debt consolidation|2025-01-09 07:17:...|\n",
       "|56533114|d4de0de3ab7d79ad4...|    25450.0|      25450.0|              3|        27.31|            1043.24|  Aug-2015|Charged Off|debt_consolidation|  Debt consolidation|2025-01-09 07:17:...|\n",
       "|56984127|3df3cdeddb74a8712...|    24000.0|      24000.0|              3|         7.89|             750.86|  Aug-2015| Fully Paid|debt_consolidation|  Debt consolidation|2025-01-09 07:17:...|\n",
       "|56131038|9dd72636b1b4045b4...|    12000.0|      12000.0|              5|        15.61|             289.34|  Aug-2015|    Current|       credit_card|Credit card refin...|2025-01-09 07:17:...|\n",
       "|56452581|1d4e1ef4353b73c00...|    25000.0|      25000.0|              3|        13.33|             846.33|  Jul-2015| Fully Paid|  home_improvement|    Home improvement|2025-01-09 07:17:...|\n",
       "|56685321|6f196952e71277fd4...|    35000.0|      35000.0|              5|        18.55|             899.28|  Aug-2015|Charged Off|    small_business|            Business|2025-01-09 07:17:...|\n",
       "|56563360|9c617cbc6e3e3d6a1...|    25000.0|      25000.0|              5|        21.99|             690.34|  Aug-2015|    Current|       credit_card|Credit card refin...|2025-01-09 07:17:...|\n",
       "|56533113|45eb04dd75400a942...|    20000.0|      20000.0|              3|        13.99|             683.46|  Aug-2015| Fully Paid|debt_consolidation|  Debt consolidation|2025-01-09 07:17:...|\n",
       "|56904118|08d233c81f9e50726...|     9525.0|       9525.0|              3|        12.29|             317.69|  Aug-2015|Charged Off|debt_consolidation|  Debt consolidation|2025-01-09 07:17:...|\n",
       "|56473361|8ff4d0ed17a1cab92...|     4200.0|       4200.0|              3|        15.61|             146.86|  Aug-2015| Fully Paid|       credit_card|Credit card refin...|2025-01-09 07:17:...|\n",
       "|56021410|aec13cfd611b2cfea...|     8625.0|       8625.0|              3|        16.55|             305.58|  Aug-2015| Fully Paid|debt_consolidation|  Debt consolidation|2025-01-09 07:17:...|\n",
       "|56473332|9ba8c96ccba6cd1f0...|    19000.0|      19000.0|              5|        17.57|             478.05|  Jul-2015|    Current|       credit_card|Credit card refin...|2025-01-09 07:17:...|\n",
       "+--------+--------------------+-----------+-------------+---------------+-------------+-------------------+----------+-----------+------------------+--------------------+--------------------+\n",
       "only showing top 20 rows"
      ]
     },
     "execution_count": 20,
     "metadata": {},
     "output_type": "execute_result"
    }
   ],
   "source": [
    "loans_term_modified"
   ]
  },
  {
   "cell_type": "code",
   "execution_count": 21,
   "id": "b0aae293",
   "metadata": {},
   "outputs": [
    {
     "name": "stdout",
     "output_type": "stream",
     "text": [
      "root\n",
      " |-- loan_id: string (nullable = true)\n",
      " |-- member_id: string (nullable = true)\n",
      " |-- loan_amount: float (nullable = true)\n",
      " |-- funded_amount: float (nullable = true)\n",
      " |-- loan_term_years: integer (nullable = true)\n",
      " |-- interest_rate: float (nullable = true)\n",
      " |-- monthly_installment: float (nullable = true)\n",
      " |-- issue_date: string (nullable = true)\n",
      " |-- loan_status: string (nullable = true)\n",
      " |-- loan_purpose: string (nullable = true)\n",
      " |-- loan_title: string (nullable = true)\n",
      " |-- ingest_date: timestamp (nullable = false)\n",
      "\n"
     ]
    }
   ],
   "source": [
    "loans_term_modified.printSchema()"
   ]
  },
  {
   "cell_type": "code",
   "execution_count": 22,
   "id": "92a5d70d",
   "metadata": {},
   "outputs": [],
   "source": [
    "loans_term_modified.createOrReplaceTempView(\"loans\")"
   ]
  },
  {
   "cell_type": "code",
   "execution_count": 23,
   "id": "593091e3",
   "metadata": {},
   "outputs": [
    {
     "data": {
      "text/html": [
       "<table border='1'>\n",
       "<tr><th>loan_id</th><th>member_id</th><th>loan_amount</th><th>funded_amount</th><th>loan_term_years</th><th>interest_rate</th><th>monthly_installment</th><th>issue_date</th><th>loan_status</th><th>loan_purpose</th><th>loan_title</th><th>ingest_date</th></tr>\n",
       "<tr><td>56633077</td><td>b59d80da191f5b573...</td><td>3000.0</td><td>3000.0</td><td>3</td><td>7.89</td><td>93.86</td><td>Aug-2015</td><td>Fully Paid</td><td>credit_card</td><td>Credit card refin...</td><td>2025-01-09 07:17:...</td></tr>\n",
       "<tr><td>55927518</td><td>202d9f56ecb7c3bc9...</td><td>15600.0</td><td>15600.0</td><td>3</td><td>7.89</td><td>488.06</td><td>Aug-2015</td><td>Fully Paid</td><td>credit_card</td><td>Credit card refin...</td><td>2025-01-09 07:17:...</td></tr>\n",
       "<tr><td>56473345</td><td>e5a140c0922b554b9...</td><td>20000.0</td><td>20000.0</td><td>3</td><td>9.17</td><td>637.58</td><td>Aug-2015</td><td>Fully Paid</td><td>debt_consolidation</td><td>Debt consolidation</td><td>2025-01-09 07:17:...</td></tr>\n",
       "<tr><td>56463188</td><td>e12aefc548f750777...</td><td>11200.0</td><td>11200.0</td><td>5</td><td>21.99</td><td>309.27</td><td>Aug-2015</td><td>Fully Paid</td><td>home_improvement</td><td>Home improvement</td><td>2025-01-09 07:17:...</td></tr>\n",
       "<tr><td>56473316</td><td>1b3a50d854fbbf97e...</td><td>16000.0</td><td>16000.0</td><td>5</td><td>20.99</td><td>432.77</td><td>Aug-2015</td><td>Charged Off</td><td>debt_consolidation</td><td>Debt consolidation</td><td>2025-01-09 07:17:...</td></tr>\n",
       "<tr><td>56663266</td><td>1c4329e5f17697127...</td><td>20000.0</td><td>20000.0</td><td>5</td><td>13.33</td><td>458.45</td><td>Aug-2015</td><td>Charged Off</td><td>debt_consolidation</td><td>Debt consolidation</td><td>2025-01-09 07:17:...</td></tr>\n",
       "<tr><td>56483027</td><td>5026c86ad983175eb...</td><td>10000.0</td><td>10000.0</td><td>3</td><td>12.69</td><td>335.45</td><td>Aug-2015</td><td>Fully Paid</td><td>other</td><td>Other</td><td>2025-01-09 07:17:...</td></tr>\n",
       "<tr><td>56613385</td><td>9847d8c1e9d0b2084...</td><td>23400.0</td><td>23400.0</td><td>5</td><td>19.19</td><td>609.46</td><td>Aug-2015</td><td>Current</td><td>small_business</td><td>Business</td><td>2025-01-09 07:17:...</td></tr>\n",
       "<tr><td>56643620</td><td>8340dbe1adea41fb4...</td><td>16000.0</td><td>16000.0</td><td>3</td><td>5.32</td><td>481.84</td><td>Jul-2015</td><td>Fully Paid</td><td>debt_consolidation</td><td>Debt consolidation</td><td>2025-01-09 07:17:...</td></tr>\n",
       "<tr><td>56533114</td><td>d4de0de3ab7d79ad4...</td><td>25450.0</td><td>25450.0</td><td>3</td><td>27.31</td><td>1043.24</td><td>Aug-2015</td><td>Charged Off</td><td>debt_consolidation</td><td>Debt consolidation</td><td>2025-01-09 07:17:...</td></tr>\n",
       "<tr><td>56984127</td><td>3df3cdeddb74a8712...</td><td>24000.0</td><td>24000.0</td><td>3</td><td>7.89</td><td>750.86</td><td>Aug-2015</td><td>Fully Paid</td><td>debt_consolidation</td><td>Debt consolidation</td><td>2025-01-09 07:17:...</td></tr>\n",
       "<tr><td>56131038</td><td>9dd72636b1b4045b4...</td><td>12000.0</td><td>12000.0</td><td>5</td><td>15.61</td><td>289.34</td><td>Aug-2015</td><td>Current</td><td>credit_card</td><td>Credit card refin...</td><td>2025-01-09 07:17:...</td></tr>\n",
       "<tr><td>56452581</td><td>1d4e1ef4353b73c00...</td><td>25000.0</td><td>25000.0</td><td>3</td><td>13.33</td><td>846.33</td><td>Jul-2015</td><td>Fully Paid</td><td>home_improvement</td><td>Home improvement</td><td>2025-01-09 07:17:...</td></tr>\n",
       "<tr><td>56685321</td><td>6f196952e71277fd4...</td><td>35000.0</td><td>35000.0</td><td>5</td><td>18.55</td><td>899.28</td><td>Aug-2015</td><td>Charged Off</td><td>small_business</td><td>Business</td><td>2025-01-09 07:17:...</td></tr>\n",
       "<tr><td>56563360</td><td>9c617cbc6e3e3d6a1...</td><td>25000.0</td><td>25000.0</td><td>5</td><td>21.99</td><td>690.34</td><td>Aug-2015</td><td>Current</td><td>credit_card</td><td>Credit card refin...</td><td>2025-01-09 07:17:...</td></tr>\n",
       "<tr><td>56533113</td><td>45eb04dd75400a942...</td><td>20000.0</td><td>20000.0</td><td>3</td><td>13.99</td><td>683.46</td><td>Aug-2015</td><td>Fully Paid</td><td>debt_consolidation</td><td>Debt consolidation</td><td>2025-01-09 07:17:...</td></tr>\n",
       "<tr><td>56904118</td><td>08d233c81f9e50726...</td><td>9525.0</td><td>9525.0</td><td>3</td><td>12.29</td><td>317.69</td><td>Aug-2015</td><td>Charged Off</td><td>debt_consolidation</td><td>Debt consolidation</td><td>2025-01-09 07:17:...</td></tr>\n",
       "<tr><td>56473361</td><td>8ff4d0ed17a1cab92...</td><td>4200.0</td><td>4200.0</td><td>3</td><td>15.61</td><td>146.86</td><td>Aug-2015</td><td>Fully Paid</td><td>credit_card</td><td>Credit card refin...</td><td>2025-01-09 07:17:...</td></tr>\n",
       "<tr><td>56021410</td><td>aec13cfd611b2cfea...</td><td>8625.0</td><td>8625.0</td><td>3</td><td>16.55</td><td>305.58</td><td>Aug-2015</td><td>Fully Paid</td><td>debt_consolidation</td><td>Debt consolidation</td><td>2025-01-09 07:17:...</td></tr>\n",
       "<tr><td>56473332</td><td>9ba8c96ccba6cd1f0...</td><td>19000.0</td><td>19000.0</td><td>5</td><td>17.57</td><td>478.05</td><td>Jul-2015</td><td>Current</td><td>credit_card</td><td>Credit card refin...</td><td>2025-01-09 07:17:...</td></tr>\n",
       "</table>\n",
       "only showing top 20 rows\n"
      ],
      "text/plain": [
       "+--------+--------------------+-----------+-------------+---------------+-------------+-------------------+----------+-----------+------------------+--------------------+--------------------+\n",
       "| loan_id|           member_id|loan_amount|funded_amount|loan_term_years|interest_rate|monthly_installment|issue_date|loan_status|      loan_purpose|          loan_title|         ingest_date|\n",
       "+--------+--------------------+-----------+-------------+---------------+-------------+-------------------+----------+-----------+------------------+--------------------+--------------------+\n",
       "|56633077|b59d80da191f5b573...|     3000.0|       3000.0|              3|         7.89|              93.86|  Aug-2015| Fully Paid|       credit_card|Credit card refin...|2025-01-09 07:17:...|\n",
       "|55927518|202d9f56ecb7c3bc9...|    15600.0|      15600.0|              3|         7.89|             488.06|  Aug-2015| Fully Paid|       credit_card|Credit card refin...|2025-01-09 07:17:...|\n",
       "|56473345|e5a140c0922b554b9...|    20000.0|      20000.0|              3|         9.17|             637.58|  Aug-2015| Fully Paid|debt_consolidation|  Debt consolidation|2025-01-09 07:17:...|\n",
       "|56463188|e12aefc548f750777...|    11200.0|      11200.0|              5|        21.99|             309.27|  Aug-2015| Fully Paid|  home_improvement|    Home improvement|2025-01-09 07:17:...|\n",
       "|56473316|1b3a50d854fbbf97e...|    16000.0|      16000.0|              5|        20.99|             432.77|  Aug-2015|Charged Off|debt_consolidation|  Debt consolidation|2025-01-09 07:17:...|\n",
       "|56663266|1c4329e5f17697127...|    20000.0|      20000.0|              5|        13.33|             458.45|  Aug-2015|Charged Off|debt_consolidation|  Debt consolidation|2025-01-09 07:17:...|\n",
       "|56483027|5026c86ad983175eb...|    10000.0|      10000.0|              3|        12.69|             335.45|  Aug-2015| Fully Paid|             other|               Other|2025-01-09 07:17:...|\n",
       "|56613385|9847d8c1e9d0b2084...|    23400.0|      23400.0|              5|        19.19|             609.46|  Aug-2015|    Current|    small_business|            Business|2025-01-09 07:17:...|\n",
       "|56643620|8340dbe1adea41fb4...|    16000.0|      16000.0|              3|         5.32|             481.84|  Jul-2015| Fully Paid|debt_consolidation|  Debt consolidation|2025-01-09 07:17:...|\n",
       "|56533114|d4de0de3ab7d79ad4...|    25450.0|      25450.0|              3|        27.31|            1043.24|  Aug-2015|Charged Off|debt_consolidation|  Debt consolidation|2025-01-09 07:17:...|\n",
       "|56984127|3df3cdeddb74a8712...|    24000.0|      24000.0|              3|         7.89|             750.86|  Aug-2015| Fully Paid|debt_consolidation|  Debt consolidation|2025-01-09 07:17:...|\n",
       "|56131038|9dd72636b1b4045b4...|    12000.0|      12000.0|              5|        15.61|             289.34|  Aug-2015|    Current|       credit_card|Credit card refin...|2025-01-09 07:17:...|\n",
       "|56452581|1d4e1ef4353b73c00...|    25000.0|      25000.0|              3|        13.33|             846.33|  Jul-2015| Fully Paid|  home_improvement|    Home improvement|2025-01-09 07:17:...|\n",
       "|56685321|6f196952e71277fd4...|    35000.0|      35000.0|              5|        18.55|             899.28|  Aug-2015|Charged Off|    small_business|            Business|2025-01-09 07:17:...|\n",
       "|56563360|9c617cbc6e3e3d6a1...|    25000.0|      25000.0|              5|        21.99|             690.34|  Aug-2015|    Current|       credit_card|Credit card refin...|2025-01-09 07:17:...|\n",
       "|56533113|45eb04dd75400a942...|    20000.0|      20000.0|              3|        13.99|             683.46|  Aug-2015| Fully Paid|debt_consolidation|  Debt consolidation|2025-01-09 07:17:...|\n",
       "|56904118|08d233c81f9e50726...|     9525.0|       9525.0|              3|        12.29|             317.69|  Aug-2015|Charged Off|debt_consolidation|  Debt consolidation|2025-01-09 07:17:...|\n",
       "|56473361|8ff4d0ed17a1cab92...|     4200.0|       4200.0|              3|        15.61|             146.86|  Aug-2015| Fully Paid|       credit_card|Credit card refin...|2025-01-09 07:17:...|\n",
       "|56021410|aec13cfd611b2cfea...|     8625.0|       8625.0|              3|        16.55|             305.58|  Aug-2015| Fully Paid|debt_consolidation|  Debt consolidation|2025-01-09 07:17:...|\n",
       "|56473332|9ba8c96ccba6cd1f0...|    19000.0|      19000.0|              5|        17.57|             478.05|  Jul-2015|    Current|       credit_card|Credit card refin...|2025-01-09 07:17:...|\n",
       "+--------+--------------------+-----------+-------------+---------------+-------------+-------------------+----------+-----------+------------------+--------------------+--------------------+\n",
       "only showing top 20 rows"
      ]
     },
     "execution_count": 23,
     "metadata": {},
     "output_type": "execute_result"
    }
   ],
   "source": [
    "spark.sql(\"Select * from loans\")"
   ]
  },
  {
   "cell_type": "code",
   "execution_count": 25,
   "id": "9a1f02d2",
   "metadata": {},
   "outputs": [
    {
     "data": {
      "text/html": [
       "<table border='1'>\n",
       "<tr><th>loan_purpose</th><th>total</th></tr>\n",
       "<tr><td>debt_consolidation</td><td>1277790</td></tr>\n",
       "<tr><td>credit_card</td><td>516926</td></tr>\n",
       "<tr><td>home_improvement</td><td>150440</td></tr>\n",
       "<tr><td>other</td><td>139413</td></tr>\n",
       "<tr><td>major_purchase</td><td>50429</td></tr>\n",
       "<tr><td>medical</td><td>27481</td></tr>\n",
       "<tr><td>small_business</td><td>24659</td></tr>\n",
       "<tr><td>car</td><td>24009</td></tr>\n",
       "<tr><td>vacation</td><td>15525</td></tr>\n",
       "<tr><td>moving</td><td>15402</td></tr>\n",
       "<tr><td>house</td><td>14131</td></tr>\n",
       "<tr><td>wedding</td><td>2351</td></tr>\n",
       "<tr><td>renewable_energy</td><td>1445</td></tr>\n",
       "<tr><td>educational</td><td>412</td></tr>\n",
       "<tr><td>brakes</td><td>1</td></tr>\n",
       "<tr><td>never had any tro...</td><td>1</td></tr>\n",
       "<tr><td>stocks</td><td>1</td></tr>\n",
       "<tr><td>putting together ...</td><td>1</td></tr>\n",
       "<tr><td>but we cant all b...</td><td>1</td></tr>\n",
       "<tr><td>on one of the bus...</td><td>1</td></tr>\n",
       "</table>\n",
       "only showing top 20 rows\n"
      ],
      "text/plain": [
       "+--------------------+-------+\n",
       "|        loan_purpose|  total|\n",
       "+--------------------+-------+\n",
       "|  debt_consolidation|1277790|\n",
       "|         credit_card| 516926|\n",
       "|    home_improvement| 150440|\n",
       "|               other| 139413|\n",
       "|      major_purchase|  50429|\n",
       "|             medical|  27481|\n",
       "|      small_business|  24659|\n",
       "|                 car|  24009|\n",
       "|            vacation|  15525|\n",
       "|              moving|  15402|\n",
       "|               house|  14131|\n",
       "|             wedding|   2351|\n",
       "|    renewable_energy|   1445|\n",
       "|         educational|    412|\n",
       "|<br/><br/>Lending...|      1|\n",
       "|and if they are a...|      1|\n",
       "|please feel free ...|      1|\n",
       "|never had any tro...|      1|\n",
       "|I became his prim...|      1|\n",
       "|              brakes|      1|\n",
       "+--------------------+-------+\n",
       "only showing top 20 rows"
      ]
     },
     "execution_count": 25,
     "metadata": {},
     "output_type": "execute_result"
    }
   ],
   "source": [
    "spark.sql(\"select loan_purpose,count(*) as total from loans group by loan_purpose order by total desc\")"
   ]
  },
  {
   "cell_type": "code",
   "execution_count": 26,
   "id": "ba06e8d6",
   "metadata": {},
   "outputs": [],
   "source": [
    "loan_purpose_lookup = [\"debt_consolidation\", \"credit_card\", \"home_improvement\", \"other\", \"major_purchase\", \"medical\", \"small_business\", \"car\", \"vacation\", \"moving\", \"house\", \"wedding\", \"renewable_energy\", \"educational\"]"
   ]
  },
  {
   "cell_type": "code",
   "execution_count": 27,
   "id": "7346427b",
   "metadata": {},
   "outputs": [],
   "source": [
    "from pyspark.sql.functions import when"
   ]
  },
  {
   "cell_type": "code",
   "execution_count": 33,
   "id": "0c982c60",
   "metadata": {},
   "outputs": [],
   "source": [
    "loans_term_modified = loans_term_modified.withColumn(\n",
    "    \"loan_purpose\",\n",
    "    when(\n",
    "        col(\"loan_purpose\").isin(loan_purpose_lookup), col(\"loan_purpose\")\n",
    "    ).otherwise(\"other\")\n",
    ")\n"
   ]
  },
  {
   "cell_type": "code",
   "execution_count": 34,
   "id": "d6325a79",
   "metadata": {},
   "outputs": [],
   "source": [
    "loans_term_modified.createOrReplaceTempView(\"loans\")"
   ]
  },
  {
   "cell_type": "code",
   "execution_count": 36,
   "id": "72e8b0e6",
   "metadata": {},
   "outputs": [],
   "source": [
    "loan_purpose = spark.sql(\"select loan_purpose,count(*) as total from loans group by loan_purpose order by total desc\")"
   ]
  },
  {
   "cell_type": "code",
   "execution_count": 45,
   "id": "b6f8c332",
   "metadata": {},
   "outputs": [],
   "source": [
    "loan_purpose.write \\\n",
    ".option(\"header\",True) \\\n",
    ".format(\"csv\") \\\n",
    ".mode(\"overwrite\") \\\n",
    ".option(\"path\",\"/user/itv016245/lendingclubproject/raw/cleaned/loans_csv\") \\\n",
    ".save()"
   ]
  },
  {
   "cell_type": "code",
   "execution_count": null,
   "id": "efdaebc8",
   "metadata": {},
   "outputs": [],
   "source": [
    "loan_purpose.write \\\n",
    ".format(\"parquet\") \\\n",
    ".mode(\"overwrite\") \\\n",
    ".option(\"path\",\"/user/itv016245/lendingclubproject/raw/cleaned/loans_parquet\") \\\n",
    ".save()"
   ]
  },
  {
   "cell_type": "code",
   "execution_count": null,
   "id": "297a30c2",
   "metadata": {},
   "outputs": [],
   "source": []
  }
 ],
 "metadata": {
  "kernelspec": {
   "display_name": "Pyspark 3",
   "language": "python",
   "name": "pyspark3"
  },
  "language_info": {
   "codemirror_mode": {
    "name": "ipython",
    "version": 3
   },
   "file_extension": ".py",
   "mimetype": "text/x-python",
   "name": "python",
   "nbconvert_exporter": "python",
   "pygments_lexer": "ipython3",
   "version": "3.6.12"
  }
 },
 "nbformat": 4,
 "nbformat_minor": 5
}
