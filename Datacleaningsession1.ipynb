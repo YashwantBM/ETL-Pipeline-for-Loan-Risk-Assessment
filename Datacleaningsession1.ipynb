{
 "cells": [
  {
   "cell_type": "code",
   "execution_count": 1,
   "id": "3a657892",
   "metadata": {},
   "outputs": [],
   "source": [
    "from pyspark.sql import SparkSession\n",
    "import getpass \n",
    "username=getpass.getuser()\n",
    "spark=SparkSession. \\\n",
    "    builder. \\\n",
    "    config('spark.ui.port','0'). \\\n",
    "    config(\"spark.sql.warehouse.dir\", f\"/user/{username}/warehouse\"). \\\n",
    "    config('spark.shuffle.useOldFetchProtocol', 'true'). \\\n",
    "    enableHiveSupport(). \\\n",
    "    master('yarn'). \\\n",
    "    getOrCreate()"
   ]
  },
  {
   "cell_type": "code",
   "execution_count": 2,
   "id": "1369338c",
   "metadata": {},
   "outputs": [],
   "source": [
    "customers_raw_df = spark.read \\\n",
    ".format(\"csv\") \\\n",
    ".option(\"header\",True) \\\n",
    ".option(\"inferSchema\", True) \\\n",
    ".load(\"/public/trendytech/lendingclubproject/raw/customers_data_csv\")"
   ]
  },
  {
   "cell_type": "code",
   "execution_count": 3,
   "id": "2af33f6d",
   "metadata": {},
   "outputs": [
    {
     "data": {
      "text/html": [
       "<table border='1'>\n",
       "<tr><th>member_id</th><th>emp_title</th><th>emp_length</th><th>home_ownership</th><th>annual_inc</th><th>addr_state</th><th>zip_code</th><th>country</th><th>grade</th><th>sub_grade</th><th>verification_status</th><th>tot_hi_cred_lim</th><th>application_type</th><th>annual_inc_joint</th><th>verification_status_joint</th></tr>\n",
       "<tr><td>b59d80da191f5b573...</td><td>null</td><td>null</td><td>RENT</td><td>50000.0</td><td>OR</td><td>973xx</td><td>USA</td><td>A</td><td>A5</td><td>Source Verified</td><td>8600.0</td><td>Individual</td><td>null</td><td>null</td></tr>\n",
       "<tr><td>202d9f56ecb7c3bc9...</td><td>police officer</td><td>7 years</td><td>OWN</td><td>85000.0</td><td>TX</td><td>799xx</td><td>USA</td><td>A</td><td>A5</td><td>Source Verified</td><td>272384.0</td><td>Individual</td><td>null</td><td>null</td></tr>\n",
       "<tr><td>e5a140c0922b554b9...</td><td>community living ...</td><td>6 years</td><td>RENT</td><td>48000.0</td><td>NY</td><td>146xx</td><td>USA</td><td>B</td><td>B2</td><td>Source Verified</td><td>85092.0</td><td>Individual</td><td>null</td><td>null</td></tr>\n",
       "<tr><td>e12aefc548f750777...</td><td>Office</td><td>10+ years</td><td>OWN</td><td>33000.0</td><td>CT</td><td>067xx</td><td>USA</td><td>F</td><td>F1</td><td>Verified</td><td>7100.0</td><td>Individual</td><td>null</td><td>null</td></tr>\n",
       "<tr><td>1b3a50d854fbbf97e...</td><td>Special Tooling I...</td><td>10+ years</td><td>MORTGAGE</td><td>81000.0</td><td>TX</td><td>791xx</td><td>USA</td><td>E</td><td>E5</td><td>Verified</td><td>190274.0</td><td>Individual</td><td>null</td><td>null</td></tr>\n",
       "<tr><td>1c4329e5f17697127...</td><td>Mine ops tech 6</td><td>2 years</td><td>MORTGAGE</td><td>68000.0</td><td>AZ</td><td>855xx</td><td>USA</td><td>C</td><td>C3</td><td>Not Verified</td><td>182453.0</td><td>Individual</td><td>null</td><td>null</td></tr>\n",
       "<tr><td>5026c86ad983175eb...</td><td>caregiver</td><td>4 years</td><td>RENT</td><td>76020.0</td><td>WA</td><td>993xx</td><td>USA</td><td>C</td><td>C2</td><td>Source Verified</td><td>15308.0</td><td>Individual</td><td>null</td><td>null</td></tr>\n",
       "<tr><td>9847d8c1e9d0b2084...</td><td>null</td><td>null</td><td>OWN</td><td>65000.0</td><td>IL</td><td>624xx</td><td>USA</td><td>E</td><td>E3</td><td>Verified</td><td>128800.0</td><td>Individual</td><td>null</td><td>null</td></tr>\n",
       "<tr><td>8340dbe1adea41fb4...</td><td>Vice President Re...</td><td>8 years</td><td>MORTGAGE</td><td>111000.0</td><td>CT</td><td>063xx</td><td>USA</td><td>A</td><td>A1</td><td>Not Verified</td><td>343507.0</td><td>Individual</td><td>null</td><td>null</td></tr>\n",
       "<tr><td>d4de0de3ab7d79ad4...</td><td>FOREMAN</td><td>10+ years</td><td>MORTGAGE</td><td>67000.0</td><td>WA</td><td>992xx</td><td>USA</td><td>G</td><td>G2</td><td>Verified</td><td>211501.0</td><td>Individual</td><td>null</td><td>null</td></tr>\n",
       "<tr><td>3df3cdeddb74a8712...</td><td>Strategist</td><td>1 year</td><td>RENT</td><td>120000.0</td><td>CA</td><td>946xx</td><td>USA</td><td>A</td><td>A5</td><td>Verified</td><td>56844.0</td><td>Individual</td><td>null</td><td>null</td></tr>\n",
       "<tr><td>9dd72636b1b4045b4...</td><td>Office Manager</td><td>2 years</td><td>RENT</td><td>52000.0</td><td>FL</td><td>327xx</td><td>USA</td><td>D</td><td>D1</td><td>Source Verified</td><td>39393.0</td><td>Individual</td><td>null</td><td>null</td></tr>\n",
       "<tr><td>1d4e1ef4353b73c00...</td><td>Electrician</td><td>2 years</td><td>MORTGAGE</td><td>50000.0</td><td>IL</td><td>606xx</td><td>USA</td><td>C</td><td>C3</td><td>Not Verified</td><td>66064.0</td><td>Individual</td><td>null</td><td>null</td></tr>\n",
       "<tr><td>6f196952e71277fd4...</td><td>Finance Manager</td><td>1 year</td><td>MORTGAGE</td><td>125000.0</td><td>GA</td><td>310xx</td><td>USA</td><td>E</td><td>E2</td><td>Source Verified</td><td>555591.0</td><td>Individual</td><td>null</td><td>null</td></tr>\n",
       "<tr><td>9c617cbc6e3e3d6a1...</td><td>Nurse practitioner</td><td>5 years</td><td>MORTGAGE</td><td>165000.0</td><td>IL</td><td>610xx</td><td>USA</td><td>F</td><td>F1</td><td>Source Verified</td><td>366113.0</td><td>Individual</td><td>null</td><td>null</td></tr>\n",
       "<tr><td>45eb04dd75400a942...</td><td>equipment operator</td><td>3 years</td><td>MORTGAGE</td><td>60000.0</td><td>CT</td><td>064xx</td><td>USA</td><td>C</td><td>C4</td><td>Source Verified</td><td>198693.0</td><td>Individual</td><td>null</td><td>null</td></tr>\n",
       "<tr><td>08d233c81f9e50726...</td><td>caregiver</td><td>2 years</td><td>RENT</td><td>36000.0</td><td>MO</td><td>648xx</td><td>USA</td><td>C</td><td>C1</td><td>Source Verified</td><td>14477.0</td><td>Individual</td><td>null</td><td>null</td></tr>\n",
       "<tr><td>8ff4d0ed17a1cab92...</td><td>owner</td><td>10+ years</td><td>MORTGAGE</td><td>28000.0</td><td>CO</td><td>801xx</td><td>USA</td><td>D</td><td>D1</td><td>Verified</td><td>314400.0</td><td>Individual</td><td>null</td><td>null</td></tr>\n",
       "<tr><td>aec13cfd611b2cfea...</td><td>Community Supervi...</td><td>2 years</td><td>RENT</td><td>33000.0</td><td>GA</td><td>306xx</td><td>USA</td><td>D</td><td>D2</td><td>Source Verified</td><td>188700.0</td><td>Individual</td><td>null</td><td>null</td></tr>\n",
       "<tr><td>9ba8c96ccba6cd1f0...</td><td>Contract Specialist</td><td>5 years</td><td>MORTGAGE</td><td>74700.0</td><td>UT</td><td>844xx</td><td>USA</td><td>D</td><td>D4</td><td>Verified</td><td>614272.0</td><td>Individual</td><td>null</td><td>null</td></tr>\n",
       "</table>\n",
       "only showing top 20 rows\n"
      ],
      "text/plain": [
       "+--------------------+--------------------+----------+--------------+----------+----------+--------+-------+-----+---------+-------------------+---------------+----------------+----------------+-------------------------+\n",
       "|           member_id|           emp_title|emp_length|home_ownership|annual_inc|addr_state|zip_code|country|grade|sub_grade|verification_status|tot_hi_cred_lim|application_type|annual_inc_joint|verification_status_joint|\n",
       "+--------------------+--------------------+----------+--------------+----------+----------+--------+-------+-----+---------+-------------------+---------------+----------------+----------------+-------------------------+\n",
       "|b59d80da191f5b573...|                null|      null|          RENT|   50000.0|        OR|   973xx|    USA|    A|       A5|    Source Verified|         8600.0|      Individual|            null|                     null|\n",
       "|202d9f56ecb7c3bc9...|      police officer|   7 years|           OWN|   85000.0|        TX|   799xx|    USA|    A|       A5|    Source Verified|       272384.0|      Individual|            null|                     null|\n",
       "|e5a140c0922b554b9...|community living ...|   6 years|          RENT|   48000.0|        NY|   146xx|    USA|    B|       B2|    Source Verified|        85092.0|      Individual|            null|                     null|\n",
       "|e12aefc548f750777...|              Office| 10+ years|           OWN|   33000.0|        CT|   067xx|    USA|    F|       F1|           Verified|         7100.0|      Individual|            null|                     null|\n",
       "|1b3a50d854fbbf97e...|Special Tooling I...| 10+ years|      MORTGAGE|   81000.0|        TX|   791xx|    USA|    E|       E5|           Verified|       190274.0|      Individual|            null|                     null|\n",
       "|1c4329e5f17697127...|     Mine ops tech 6|   2 years|      MORTGAGE|   68000.0|        AZ|   855xx|    USA|    C|       C3|       Not Verified|       182453.0|      Individual|            null|                     null|\n",
       "|5026c86ad983175eb...|           caregiver|   4 years|          RENT|   76020.0|        WA|   993xx|    USA|    C|       C2|    Source Verified|        15308.0|      Individual|            null|                     null|\n",
       "|9847d8c1e9d0b2084...|                null|      null|           OWN|   65000.0|        IL|   624xx|    USA|    E|       E3|           Verified|       128800.0|      Individual|            null|                     null|\n",
       "|8340dbe1adea41fb4...|Vice President Re...|   8 years|      MORTGAGE|  111000.0|        CT|   063xx|    USA|    A|       A1|       Not Verified|       343507.0|      Individual|            null|                     null|\n",
       "|d4de0de3ab7d79ad4...|             FOREMAN| 10+ years|      MORTGAGE|   67000.0|        WA|   992xx|    USA|    G|       G2|           Verified|       211501.0|      Individual|            null|                     null|\n",
       "|3df3cdeddb74a8712...|          Strategist|    1 year|          RENT|  120000.0|        CA|   946xx|    USA|    A|       A5|           Verified|        56844.0|      Individual|            null|                     null|\n",
       "|9dd72636b1b4045b4...|      Office Manager|   2 years|          RENT|   52000.0|        FL|   327xx|    USA|    D|       D1|    Source Verified|        39393.0|      Individual|            null|                     null|\n",
       "|1d4e1ef4353b73c00...|         Electrician|   2 years|      MORTGAGE|   50000.0|        IL|   606xx|    USA|    C|       C3|       Not Verified|        66064.0|      Individual|            null|                     null|\n",
       "|6f196952e71277fd4...|     Finance Manager|    1 year|      MORTGAGE|  125000.0|        GA|   310xx|    USA|    E|       E2|    Source Verified|       555591.0|      Individual|            null|                     null|\n",
       "|9c617cbc6e3e3d6a1...|  Nurse practitioner|   5 years|      MORTGAGE|  165000.0|        IL|   610xx|    USA|    F|       F1|    Source Verified|       366113.0|      Individual|            null|                     null|\n",
       "|45eb04dd75400a942...|  equipment operator|   3 years|      MORTGAGE|   60000.0|        CT|   064xx|    USA|    C|       C4|    Source Verified|       198693.0|      Individual|            null|                     null|\n",
       "|08d233c81f9e50726...|           caregiver|   2 years|          RENT|   36000.0|        MO|   648xx|    USA|    C|       C1|    Source Verified|        14477.0|      Individual|            null|                     null|\n",
       "|8ff4d0ed17a1cab92...|               owner| 10+ years|      MORTGAGE|   28000.0|        CO|   801xx|    USA|    D|       D1|           Verified|       314400.0|      Individual|            null|                     null|\n",
       "|aec13cfd611b2cfea...|Community Supervi...|   2 years|          RENT|   33000.0|        GA|   306xx|    USA|    D|       D2|    Source Verified|       188700.0|      Individual|            null|                     null|\n",
       "|9ba8c96ccba6cd1f0...| Contract Specialist|   5 years|      MORTGAGE|   74700.0|        UT|   844xx|    USA|    D|       D4|           Verified|       614272.0|      Individual|            null|                     null|\n",
       "+--------------------+--------------------+----------+--------------+----------+----------+--------+-------+-----+---------+-------------------+---------------+----------------+----------------+-------------------------+\n",
       "only showing top 20 rows"
      ]
     },
     "execution_count": 3,
     "metadata": {},
     "output_type": "execute_result"
    }
   ],
   "source": [
    "customers_raw_df"
   ]
  },
  {
   "cell_type": "code",
   "execution_count": 4,
   "id": "97093501",
   "metadata": {},
   "outputs": [
    {
     "name": "stdout",
     "output_type": "stream",
     "text": [
      "+--------------------+--------------------+----------+--------------+----------+----------+--------+-------+-----+---------+-------------------+---------------+----------------+----------------+-------------------------+\n",
      "|           member_id|           emp_title|emp_length|home_ownership|annual_inc|addr_state|zip_code|country|grade|sub_grade|verification_status|tot_hi_cred_lim|application_type|annual_inc_joint|verification_status_joint|\n",
      "+--------------------+--------------------+----------+--------------+----------+----------+--------+-------+-----+---------+-------------------+---------------+----------------+----------------+-------------------------+\n",
      "|b59d80da191f5b573...|                null|      null|          RENT|   50000.0|        OR|   973xx|    USA|    A|       A5|    Source Verified|         8600.0|      Individual|            null|                     null|\n",
      "|202d9f56ecb7c3bc9...|      police officer|   7 years|           OWN|   85000.0|        TX|   799xx|    USA|    A|       A5|    Source Verified|       272384.0|      Individual|            null|                     null|\n",
      "|e5a140c0922b554b9...|community living ...|   6 years|          RENT|   48000.0|        NY|   146xx|    USA|    B|       B2|    Source Verified|        85092.0|      Individual|            null|                     null|\n",
      "|e12aefc548f750777...|              Office| 10+ years|           OWN|   33000.0|        CT|   067xx|    USA|    F|       F1|           Verified|         7100.0|      Individual|            null|                     null|\n",
      "|1b3a50d854fbbf97e...|Special Tooling I...| 10+ years|      MORTGAGE|   81000.0|        TX|   791xx|    USA|    E|       E5|           Verified|       190274.0|      Individual|            null|                     null|\n",
      "|1c4329e5f17697127...|     Mine ops tech 6|   2 years|      MORTGAGE|   68000.0|        AZ|   855xx|    USA|    C|       C3|       Not Verified|       182453.0|      Individual|            null|                     null|\n",
      "|5026c86ad983175eb...|           caregiver|   4 years|          RENT|   76020.0|        WA|   993xx|    USA|    C|       C2|    Source Verified|        15308.0|      Individual|            null|                     null|\n",
      "|9847d8c1e9d0b2084...|                null|      null|           OWN|   65000.0|        IL|   624xx|    USA|    E|       E3|           Verified|       128800.0|      Individual|            null|                     null|\n",
      "|8340dbe1adea41fb4...|Vice President Re...|   8 years|      MORTGAGE|  111000.0|        CT|   063xx|    USA|    A|       A1|       Not Verified|       343507.0|      Individual|            null|                     null|\n",
      "|d4de0de3ab7d79ad4...|             FOREMAN| 10+ years|      MORTGAGE|   67000.0|        WA|   992xx|    USA|    G|       G2|           Verified|       211501.0|      Individual|            null|                     null|\n",
      "+--------------------+--------------------+----------+--------------+----------+----------+--------+-------+-----+---------+-------------------+---------------+----------------+----------------+-------------------------+\n",
      "only showing top 10 rows\n",
      "\n"
     ]
    }
   ],
   "source": [
    "customers_raw_df.show(10)"
   ]
  },
  {
   "cell_type": "code",
   "execution_count": 5,
   "id": "cbd167a2",
   "metadata": {},
   "outputs": [],
   "source": [
    "customer_df_renamed = customers_raw_df.withColumnRenamed(\"annual_inc\", \"annualincome\") \\\n",
    ".withColumnRenamed(\"tot_hi_credit_lim\", \"total_high_credit_limit\") \\\n",
    ".withColumnRenamed(\"annual_inc_joint\", \"join_annual_income\")"
   ]
  },
  {
   "cell_type": "code",
   "execution_count": 6,
   "id": "da9464ab",
   "metadata": {},
   "outputs": [
    {
     "data": {
      "text/html": [
       "<table border='1'>\n",
       "<tr><th>member_id</th><th>emp_title</th><th>emp_length</th><th>home_ownership</th><th>annualincome</th><th>addr_state</th><th>zip_code</th><th>country</th><th>grade</th><th>sub_grade</th><th>verification_status</th><th>tot_hi_cred_lim</th><th>application_type</th><th>join_annual_income</th><th>verification_status_joint</th></tr>\n",
       "<tr><td>b59d80da191f5b573...</td><td>null</td><td>null</td><td>RENT</td><td>50000.0</td><td>OR</td><td>973xx</td><td>USA</td><td>A</td><td>A5</td><td>Source Verified</td><td>8600.0</td><td>Individual</td><td>null</td><td>null</td></tr>\n",
       "<tr><td>202d9f56ecb7c3bc9...</td><td>police officer</td><td>7 years</td><td>OWN</td><td>85000.0</td><td>TX</td><td>799xx</td><td>USA</td><td>A</td><td>A5</td><td>Source Verified</td><td>272384.0</td><td>Individual</td><td>null</td><td>null</td></tr>\n",
       "<tr><td>e5a140c0922b554b9...</td><td>community living ...</td><td>6 years</td><td>RENT</td><td>48000.0</td><td>NY</td><td>146xx</td><td>USA</td><td>B</td><td>B2</td><td>Source Verified</td><td>85092.0</td><td>Individual</td><td>null</td><td>null</td></tr>\n",
       "<tr><td>e12aefc548f750777...</td><td>Office</td><td>10+ years</td><td>OWN</td><td>33000.0</td><td>CT</td><td>067xx</td><td>USA</td><td>F</td><td>F1</td><td>Verified</td><td>7100.0</td><td>Individual</td><td>null</td><td>null</td></tr>\n",
       "<tr><td>1b3a50d854fbbf97e...</td><td>Special Tooling I...</td><td>10+ years</td><td>MORTGAGE</td><td>81000.0</td><td>TX</td><td>791xx</td><td>USA</td><td>E</td><td>E5</td><td>Verified</td><td>190274.0</td><td>Individual</td><td>null</td><td>null</td></tr>\n",
       "<tr><td>1c4329e5f17697127...</td><td>Mine ops tech 6</td><td>2 years</td><td>MORTGAGE</td><td>68000.0</td><td>AZ</td><td>855xx</td><td>USA</td><td>C</td><td>C3</td><td>Not Verified</td><td>182453.0</td><td>Individual</td><td>null</td><td>null</td></tr>\n",
       "<tr><td>5026c86ad983175eb...</td><td>caregiver</td><td>4 years</td><td>RENT</td><td>76020.0</td><td>WA</td><td>993xx</td><td>USA</td><td>C</td><td>C2</td><td>Source Verified</td><td>15308.0</td><td>Individual</td><td>null</td><td>null</td></tr>\n",
       "<tr><td>9847d8c1e9d0b2084...</td><td>null</td><td>null</td><td>OWN</td><td>65000.0</td><td>IL</td><td>624xx</td><td>USA</td><td>E</td><td>E3</td><td>Verified</td><td>128800.0</td><td>Individual</td><td>null</td><td>null</td></tr>\n",
       "<tr><td>8340dbe1adea41fb4...</td><td>Vice President Re...</td><td>8 years</td><td>MORTGAGE</td><td>111000.0</td><td>CT</td><td>063xx</td><td>USA</td><td>A</td><td>A1</td><td>Not Verified</td><td>343507.0</td><td>Individual</td><td>null</td><td>null</td></tr>\n",
       "<tr><td>d4de0de3ab7d79ad4...</td><td>FOREMAN</td><td>10+ years</td><td>MORTGAGE</td><td>67000.0</td><td>WA</td><td>992xx</td><td>USA</td><td>G</td><td>G2</td><td>Verified</td><td>211501.0</td><td>Individual</td><td>null</td><td>null</td></tr>\n",
       "<tr><td>3df3cdeddb74a8712...</td><td>Strategist</td><td>1 year</td><td>RENT</td><td>120000.0</td><td>CA</td><td>946xx</td><td>USA</td><td>A</td><td>A5</td><td>Verified</td><td>56844.0</td><td>Individual</td><td>null</td><td>null</td></tr>\n",
       "<tr><td>9dd72636b1b4045b4...</td><td>Office Manager</td><td>2 years</td><td>RENT</td><td>52000.0</td><td>FL</td><td>327xx</td><td>USA</td><td>D</td><td>D1</td><td>Source Verified</td><td>39393.0</td><td>Individual</td><td>null</td><td>null</td></tr>\n",
       "<tr><td>1d4e1ef4353b73c00...</td><td>Electrician</td><td>2 years</td><td>MORTGAGE</td><td>50000.0</td><td>IL</td><td>606xx</td><td>USA</td><td>C</td><td>C3</td><td>Not Verified</td><td>66064.0</td><td>Individual</td><td>null</td><td>null</td></tr>\n",
       "<tr><td>6f196952e71277fd4...</td><td>Finance Manager</td><td>1 year</td><td>MORTGAGE</td><td>125000.0</td><td>GA</td><td>310xx</td><td>USA</td><td>E</td><td>E2</td><td>Source Verified</td><td>555591.0</td><td>Individual</td><td>null</td><td>null</td></tr>\n",
       "<tr><td>9c617cbc6e3e3d6a1...</td><td>Nurse practitioner</td><td>5 years</td><td>MORTGAGE</td><td>165000.0</td><td>IL</td><td>610xx</td><td>USA</td><td>F</td><td>F1</td><td>Source Verified</td><td>366113.0</td><td>Individual</td><td>null</td><td>null</td></tr>\n",
       "<tr><td>45eb04dd75400a942...</td><td>equipment operator</td><td>3 years</td><td>MORTGAGE</td><td>60000.0</td><td>CT</td><td>064xx</td><td>USA</td><td>C</td><td>C4</td><td>Source Verified</td><td>198693.0</td><td>Individual</td><td>null</td><td>null</td></tr>\n",
       "<tr><td>08d233c81f9e50726...</td><td>caregiver</td><td>2 years</td><td>RENT</td><td>36000.0</td><td>MO</td><td>648xx</td><td>USA</td><td>C</td><td>C1</td><td>Source Verified</td><td>14477.0</td><td>Individual</td><td>null</td><td>null</td></tr>\n",
       "<tr><td>8ff4d0ed17a1cab92...</td><td>owner</td><td>10+ years</td><td>MORTGAGE</td><td>28000.0</td><td>CO</td><td>801xx</td><td>USA</td><td>D</td><td>D1</td><td>Verified</td><td>314400.0</td><td>Individual</td><td>null</td><td>null</td></tr>\n",
       "<tr><td>aec13cfd611b2cfea...</td><td>Community Supervi...</td><td>2 years</td><td>RENT</td><td>33000.0</td><td>GA</td><td>306xx</td><td>USA</td><td>D</td><td>D2</td><td>Source Verified</td><td>188700.0</td><td>Individual</td><td>null</td><td>null</td></tr>\n",
       "<tr><td>9ba8c96ccba6cd1f0...</td><td>Contract Specialist</td><td>5 years</td><td>MORTGAGE</td><td>74700.0</td><td>UT</td><td>844xx</td><td>USA</td><td>D</td><td>D4</td><td>Verified</td><td>614272.0</td><td>Individual</td><td>null</td><td>null</td></tr>\n",
       "</table>\n",
       "only showing top 20 rows\n"
      ],
      "text/plain": [
       "+--------------------+--------------------+----------+--------------+------------+----------+--------+-------+-----+---------+-------------------+---------------+----------------+------------------+-------------------------+\n",
       "|           member_id|           emp_title|emp_length|home_ownership|annualincome|addr_state|zip_code|country|grade|sub_grade|verification_status|tot_hi_cred_lim|application_type|join_annual_income|verification_status_joint|\n",
       "+--------------------+--------------------+----------+--------------+------------+----------+--------+-------+-----+---------+-------------------+---------------+----------------+------------------+-------------------------+\n",
       "|b59d80da191f5b573...|                null|      null|          RENT|     50000.0|        OR|   973xx|    USA|    A|       A5|    Source Verified|         8600.0|      Individual|              null|                     null|\n",
       "|202d9f56ecb7c3bc9...|      police officer|   7 years|           OWN|     85000.0|        TX|   799xx|    USA|    A|       A5|    Source Verified|       272384.0|      Individual|              null|                     null|\n",
       "|e5a140c0922b554b9...|community living ...|   6 years|          RENT|     48000.0|        NY|   146xx|    USA|    B|       B2|    Source Verified|        85092.0|      Individual|              null|                     null|\n",
       "|e12aefc548f750777...|              Office| 10+ years|           OWN|     33000.0|        CT|   067xx|    USA|    F|       F1|           Verified|         7100.0|      Individual|              null|                     null|\n",
       "|1b3a50d854fbbf97e...|Special Tooling I...| 10+ years|      MORTGAGE|     81000.0|        TX|   791xx|    USA|    E|       E5|           Verified|       190274.0|      Individual|              null|                     null|\n",
       "|1c4329e5f17697127...|     Mine ops tech 6|   2 years|      MORTGAGE|     68000.0|        AZ|   855xx|    USA|    C|       C3|       Not Verified|       182453.0|      Individual|              null|                     null|\n",
       "|5026c86ad983175eb...|           caregiver|   4 years|          RENT|     76020.0|        WA|   993xx|    USA|    C|       C2|    Source Verified|        15308.0|      Individual|              null|                     null|\n",
       "|9847d8c1e9d0b2084...|                null|      null|           OWN|     65000.0|        IL|   624xx|    USA|    E|       E3|           Verified|       128800.0|      Individual|              null|                     null|\n",
       "|8340dbe1adea41fb4...|Vice President Re...|   8 years|      MORTGAGE|    111000.0|        CT|   063xx|    USA|    A|       A1|       Not Verified|       343507.0|      Individual|              null|                     null|\n",
       "|d4de0de3ab7d79ad4...|             FOREMAN| 10+ years|      MORTGAGE|     67000.0|        WA|   992xx|    USA|    G|       G2|           Verified|       211501.0|      Individual|              null|                     null|\n",
       "|3df3cdeddb74a8712...|          Strategist|    1 year|          RENT|    120000.0|        CA|   946xx|    USA|    A|       A5|           Verified|        56844.0|      Individual|              null|                     null|\n",
       "|9dd72636b1b4045b4...|      Office Manager|   2 years|          RENT|     52000.0|        FL|   327xx|    USA|    D|       D1|    Source Verified|        39393.0|      Individual|              null|                     null|\n",
       "|1d4e1ef4353b73c00...|         Electrician|   2 years|      MORTGAGE|     50000.0|        IL|   606xx|    USA|    C|       C3|       Not Verified|        66064.0|      Individual|              null|                     null|\n",
       "|6f196952e71277fd4...|     Finance Manager|    1 year|      MORTGAGE|    125000.0|        GA|   310xx|    USA|    E|       E2|    Source Verified|       555591.0|      Individual|              null|                     null|\n",
       "|9c617cbc6e3e3d6a1...|  Nurse practitioner|   5 years|      MORTGAGE|    165000.0|        IL|   610xx|    USA|    F|       F1|    Source Verified|       366113.0|      Individual|              null|                     null|\n",
       "|45eb04dd75400a942...|  equipment operator|   3 years|      MORTGAGE|     60000.0|        CT|   064xx|    USA|    C|       C4|    Source Verified|       198693.0|      Individual|              null|                     null|\n",
       "|08d233c81f9e50726...|           caregiver|   2 years|          RENT|     36000.0|        MO|   648xx|    USA|    C|       C1|    Source Verified|        14477.0|      Individual|              null|                     null|\n",
       "|8ff4d0ed17a1cab92...|               owner| 10+ years|      MORTGAGE|     28000.0|        CO|   801xx|    USA|    D|       D1|           Verified|       314400.0|      Individual|              null|                     null|\n",
       "|aec13cfd611b2cfea...|Community Supervi...|   2 years|          RENT|     33000.0|        GA|   306xx|    USA|    D|       D2|    Source Verified|       188700.0|      Individual|              null|                     null|\n",
       "|9ba8c96ccba6cd1f0...| Contract Specialist|   5 years|      MORTGAGE|     74700.0|        UT|   844xx|    USA|    D|       D4|           Verified|       614272.0|      Individual|              null|                     null|\n",
       "+--------------------+--------------------+----------+--------------+------------+----------+--------+-------+-----+---------+-------------------+---------------+----------------+------------------+-------------------------+\n",
       "only showing top 20 rows"
      ]
     },
     "execution_count": 6,
     "metadata": {},
     "output_type": "execute_result"
    }
   ],
   "source": [
    "customer_df_renamed"
   ]
  },
  {
   "cell_type": "code",
   "execution_count": 7,
   "id": "2e0c2b13",
   "metadata": {},
   "outputs": [],
   "source": [
    "from pyspark.sql.functions import current_timestamp"
   ]
  },
  {
   "cell_type": "code",
   "execution_count": 8,
   "id": "8a15b135",
   "metadata": {},
   "outputs": [],
   "source": [
    "customer_df_renamed1 = customer_df_renamed.withColumn(\"ingest_date\",current_timestamp())"
   ]
  },
  {
   "cell_type": "code",
   "execution_count": 9,
   "id": "71cfe2e0",
   "metadata": {},
   "outputs": [
    {
     "data": {
      "text/html": [
       "<table border='1'>\n",
       "<tr><th>member_id</th><th>emp_title</th><th>emp_length</th><th>home_ownership</th><th>annualincome</th><th>addr_state</th><th>zip_code</th><th>country</th><th>grade</th><th>sub_grade</th><th>verification_status</th><th>tot_hi_cred_lim</th><th>application_type</th><th>join_annual_income</th><th>verification_status_joint</th><th>ingest_date</th></tr>\n",
       "<tr><td>b59d80da191f5b573...</td><td>null</td><td>null</td><td>RENT</td><td>50000.0</td><td>OR</td><td>973xx</td><td>USA</td><td>A</td><td>A5</td><td>Source Verified</td><td>8600.0</td><td>Individual</td><td>null</td><td>null</td><td>2025-01-09 06:23:...</td></tr>\n",
       "<tr><td>202d9f56ecb7c3bc9...</td><td>police officer</td><td>7 years</td><td>OWN</td><td>85000.0</td><td>TX</td><td>799xx</td><td>USA</td><td>A</td><td>A5</td><td>Source Verified</td><td>272384.0</td><td>Individual</td><td>null</td><td>null</td><td>2025-01-09 06:23:...</td></tr>\n",
       "<tr><td>e5a140c0922b554b9...</td><td>community living ...</td><td>6 years</td><td>RENT</td><td>48000.0</td><td>NY</td><td>146xx</td><td>USA</td><td>B</td><td>B2</td><td>Source Verified</td><td>85092.0</td><td>Individual</td><td>null</td><td>null</td><td>2025-01-09 06:23:...</td></tr>\n",
       "<tr><td>e12aefc548f750777...</td><td>Office</td><td>10+ years</td><td>OWN</td><td>33000.0</td><td>CT</td><td>067xx</td><td>USA</td><td>F</td><td>F1</td><td>Verified</td><td>7100.0</td><td>Individual</td><td>null</td><td>null</td><td>2025-01-09 06:23:...</td></tr>\n",
       "<tr><td>1b3a50d854fbbf97e...</td><td>Special Tooling I...</td><td>10+ years</td><td>MORTGAGE</td><td>81000.0</td><td>TX</td><td>791xx</td><td>USA</td><td>E</td><td>E5</td><td>Verified</td><td>190274.0</td><td>Individual</td><td>null</td><td>null</td><td>2025-01-09 06:23:...</td></tr>\n",
       "<tr><td>1c4329e5f17697127...</td><td>Mine ops tech 6</td><td>2 years</td><td>MORTGAGE</td><td>68000.0</td><td>AZ</td><td>855xx</td><td>USA</td><td>C</td><td>C3</td><td>Not Verified</td><td>182453.0</td><td>Individual</td><td>null</td><td>null</td><td>2025-01-09 06:23:...</td></tr>\n",
       "<tr><td>5026c86ad983175eb...</td><td>caregiver</td><td>4 years</td><td>RENT</td><td>76020.0</td><td>WA</td><td>993xx</td><td>USA</td><td>C</td><td>C2</td><td>Source Verified</td><td>15308.0</td><td>Individual</td><td>null</td><td>null</td><td>2025-01-09 06:23:...</td></tr>\n",
       "<tr><td>9847d8c1e9d0b2084...</td><td>null</td><td>null</td><td>OWN</td><td>65000.0</td><td>IL</td><td>624xx</td><td>USA</td><td>E</td><td>E3</td><td>Verified</td><td>128800.0</td><td>Individual</td><td>null</td><td>null</td><td>2025-01-09 06:23:...</td></tr>\n",
       "<tr><td>8340dbe1adea41fb4...</td><td>Vice President Re...</td><td>8 years</td><td>MORTGAGE</td><td>111000.0</td><td>CT</td><td>063xx</td><td>USA</td><td>A</td><td>A1</td><td>Not Verified</td><td>343507.0</td><td>Individual</td><td>null</td><td>null</td><td>2025-01-09 06:23:...</td></tr>\n",
       "<tr><td>d4de0de3ab7d79ad4...</td><td>FOREMAN</td><td>10+ years</td><td>MORTGAGE</td><td>67000.0</td><td>WA</td><td>992xx</td><td>USA</td><td>G</td><td>G2</td><td>Verified</td><td>211501.0</td><td>Individual</td><td>null</td><td>null</td><td>2025-01-09 06:23:...</td></tr>\n",
       "<tr><td>3df3cdeddb74a8712...</td><td>Strategist</td><td>1 year</td><td>RENT</td><td>120000.0</td><td>CA</td><td>946xx</td><td>USA</td><td>A</td><td>A5</td><td>Verified</td><td>56844.0</td><td>Individual</td><td>null</td><td>null</td><td>2025-01-09 06:23:...</td></tr>\n",
       "<tr><td>9dd72636b1b4045b4...</td><td>Office Manager</td><td>2 years</td><td>RENT</td><td>52000.0</td><td>FL</td><td>327xx</td><td>USA</td><td>D</td><td>D1</td><td>Source Verified</td><td>39393.0</td><td>Individual</td><td>null</td><td>null</td><td>2025-01-09 06:23:...</td></tr>\n",
       "<tr><td>1d4e1ef4353b73c00...</td><td>Electrician</td><td>2 years</td><td>MORTGAGE</td><td>50000.0</td><td>IL</td><td>606xx</td><td>USA</td><td>C</td><td>C3</td><td>Not Verified</td><td>66064.0</td><td>Individual</td><td>null</td><td>null</td><td>2025-01-09 06:23:...</td></tr>\n",
       "<tr><td>6f196952e71277fd4...</td><td>Finance Manager</td><td>1 year</td><td>MORTGAGE</td><td>125000.0</td><td>GA</td><td>310xx</td><td>USA</td><td>E</td><td>E2</td><td>Source Verified</td><td>555591.0</td><td>Individual</td><td>null</td><td>null</td><td>2025-01-09 06:23:...</td></tr>\n",
       "<tr><td>9c617cbc6e3e3d6a1...</td><td>Nurse practitioner</td><td>5 years</td><td>MORTGAGE</td><td>165000.0</td><td>IL</td><td>610xx</td><td>USA</td><td>F</td><td>F1</td><td>Source Verified</td><td>366113.0</td><td>Individual</td><td>null</td><td>null</td><td>2025-01-09 06:23:...</td></tr>\n",
       "<tr><td>45eb04dd75400a942...</td><td>equipment operator</td><td>3 years</td><td>MORTGAGE</td><td>60000.0</td><td>CT</td><td>064xx</td><td>USA</td><td>C</td><td>C4</td><td>Source Verified</td><td>198693.0</td><td>Individual</td><td>null</td><td>null</td><td>2025-01-09 06:23:...</td></tr>\n",
       "<tr><td>08d233c81f9e50726...</td><td>caregiver</td><td>2 years</td><td>RENT</td><td>36000.0</td><td>MO</td><td>648xx</td><td>USA</td><td>C</td><td>C1</td><td>Source Verified</td><td>14477.0</td><td>Individual</td><td>null</td><td>null</td><td>2025-01-09 06:23:...</td></tr>\n",
       "<tr><td>8ff4d0ed17a1cab92...</td><td>owner</td><td>10+ years</td><td>MORTGAGE</td><td>28000.0</td><td>CO</td><td>801xx</td><td>USA</td><td>D</td><td>D1</td><td>Verified</td><td>314400.0</td><td>Individual</td><td>null</td><td>null</td><td>2025-01-09 06:23:...</td></tr>\n",
       "<tr><td>aec13cfd611b2cfea...</td><td>Community Supervi...</td><td>2 years</td><td>RENT</td><td>33000.0</td><td>GA</td><td>306xx</td><td>USA</td><td>D</td><td>D2</td><td>Source Verified</td><td>188700.0</td><td>Individual</td><td>null</td><td>null</td><td>2025-01-09 06:23:...</td></tr>\n",
       "<tr><td>9ba8c96ccba6cd1f0...</td><td>Contract Specialist</td><td>5 years</td><td>MORTGAGE</td><td>74700.0</td><td>UT</td><td>844xx</td><td>USA</td><td>D</td><td>D4</td><td>Verified</td><td>614272.0</td><td>Individual</td><td>null</td><td>null</td><td>2025-01-09 06:23:...</td></tr>\n",
       "</table>\n",
       "only showing top 20 rows\n"
      ],
      "text/plain": [
       "+--------------------+--------------------+----------+--------------+------------+----------+--------+-------+-----+---------+-------------------+---------------+----------------+------------------+-------------------------+--------------------+\n",
       "|           member_id|           emp_title|emp_length|home_ownership|annualincome|addr_state|zip_code|country|grade|sub_grade|verification_status|tot_hi_cred_lim|application_type|join_annual_income|verification_status_joint|         ingest_date|\n",
       "+--------------------+--------------------+----------+--------------+------------+----------+--------+-------+-----+---------+-------------------+---------------+----------------+------------------+-------------------------+--------------------+\n",
       "|b59d80da191f5b573...|                null|      null|          RENT|     50000.0|        OR|   973xx|    USA|    A|       A5|    Source Verified|         8600.0|      Individual|              null|                     null|2025-01-09 06:23:...|\n",
       "|202d9f56ecb7c3bc9...|      police officer|   7 years|           OWN|     85000.0|        TX|   799xx|    USA|    A|       A5|    Source Verified|       272384.0|      Individual|              null|                     null|2025-01-09 06:23:...|\n",
       "|e5a140c0922b554b9...|community living ...|   6 years|          RENT|     48000.0|        NY|   146xx|    USA|    B|       B2|    Source Verified|        85092.0|      Individual|              null|                     null|2025-01-09 06:23:...|\n",
       "|e12aefc548f750777...|              Office| 10+ years|           OWN|     33000.0|        CT|   067xx|    USA|    F|       F1|           Verified|         7100.0|      Individual|              null|                     null|2025-01-09 06:23:...|\n",
       "|1b3a50d854fbbf97e...|Special Tooling I...| 10+ years|      MORTGAGE|     81000.0|        TX|   791xx|    USA|    E|       E5|           Verified|       190274.0|      Individual|              null|                     null|2025-01-09 06:23:...|\n",
       "|1c4329e5f17697127...|     Mine ops tech 6|   2 years|      MORTGAGE|     68000.0|        AZ|   855xx|    USA|    C|       C3|       Not Verified|       182453.0|      Individual|              null|                     null|2025-01-09 06:23:...|\n",
       "|5026c86ad983175eb...|           caregiver|   4 years|          RENT|     76020.0|        WA|   993xx|    USA|    C|       C2|    Source Verified|        15308.0|      Individual|              null|                     null|2025-01-09 06:23:...|\n",
       "|9847d8c1e9d0b2084...|                null|      null|           OWN|     65000.0|        IL|   624xx|    USA|    E|       E3|           Verified|       128800.0|      Individual|              null|                     null|2025-01-09 06:23:...|\n",
       "|8340dbe1adea41fb4...|Vice President Re...|   8 years|      MORTGAGE|    111000.0|        CT|   063xx|    USA|    A|       A1|       Not Verified|       343507.0|      Individual|              null|                     null|2025-01-09 06:23:...|\n",
       "|d4de0de3ab7d79ad4...|             FOREMAN| 10+ years|      MORTGAGE|     67000.0|        WA|   992xx|    USA|    G|       G2|           Verified|       211501.0|      Individual|              null|                     null|2025-01-09 06:23:...|\n",
       "|3df3cdeddb74a8712...|          Strategist|    1 year|          RENT|    120000.0|        CA|   946xx|    USA|    A|       A5|           Verified|        56844.0|      Individual|              null|                     null|2025-01-09 06:23:...|\n",
       "|9dd72636b1b4045b4...|      Office Manager|   2 years|          RENT|     52000.0|        FL|   327xx|    USA|    D|       D1|    Source Verified|        39393.0|      Individual|              null|                     null|2025-01-09 06:23:...|\n",
       "|1d4e1ef4353b73c00...|         Electrician|   2 years|      MORTGAGE|     50000.0|        IL|   606xx|    USA|    C|       C3|       Not Verified|        66064.0|      Individual|              null|                     null|2025-01-09 06:23:...|\n",
       "|6f196952e71277fd4...|     Finance Manager|    1 year|      MORTGAGE|    125000.0|        GA|   310xx|    USA|    E|       E2|    Source Verified|       555591.0|      Individual|              null|                     null|2025-01-09 06:23:...|\n",
       "|9c617cbc6e3e3d6a1...|  Nurse practitioner|   5 years|      MORTGAGE|    165000.0|        IL|   610xx|    USA|    F|       F1|    Source Verified|       366113.0|      Individual|              null|                     null|2025-01-09 06:23:...|\n",
       "|45eb04dd75400a942...|  equipment operator|   3 years|      MORTGAGE|     60000.0|        CT|   064xx|    USA|    C|       C4|    Source Verified|       198693.0|      Individual|              null|                     null|2025-01-09 06:23:...|\n",
       "|08d233c81f9e50726...|           caregiver|   2 years|          RENT|     36000.0|        MO|   648xx|    USA|    C|       C1|    Source Verified|        14477.0|      Individual|              null|                     null|2025-01-09 06:23:...|\n",
       "|8ff4d0ed17a1cab92...|               owner| 10+ years|      MORTGAGE|     28000.0|        CO|   801xx|    USA|    D|       D1|           Verified|       314400.0|      Individual|              null|                     null|2025-01-09 06:23:...|\n",
       "|aec13cfd611b2cfea...|Community Supervi...|   2 years|          RENT|     33000.0|        GA|   306xx|    USA|    D|       D2|    Source Verified|       188700.0|      Individual|              null|                     null|2025-01-09 06:23:...|\n",
       "|9ba8c96ccba6cd1f0...| Contract Specialist|   5 years|      MORTGAGE|     74700.0|        UT|   844xx|    USA|    D|       D4|           Verified|       614272.0|      Individual|              null|                     null|2025-01-09 06:23:...|\n",
       "+--------------------+--------------------+----------+--------------+------------+----------+--------+-------+-----+---------+-------------------+---------------+----------------+------------------+-------------------------+--------------------+\n",
       "only showing top 20 rows"
      ]
     },
     "execution_count": 9,
     "metadata": {},
     "output_type": "execute_result"
    }
   ],
   "source": [
    "customer_df_renamed1"
   ]
  },
  {
   "cell_type": "code",
   "execution_count": 10,
   "id": "ce6df22d",
   "metadata": {},
   "outputs": [
    {
     "name": "stdout",
     "output_type": "stream",
     "text": [
      "root\n",
      " |-- member_id: string (nullable = true)\n",
      " |-- emp_title: string (nullable = true)\n",
      " |-- emp_length: string (nullable = true)\n",
      " |-- home_ownership: string (nullable = true)\n",
      " |-- annualincome: string (nullable = true)\n",
      " |-- addr_state: string (nullable = true)\n",
      " |-- zip_code: string (nullable = true)\n",
      " |-- country: string (nullable = true)\n",
      " |-- grade: string (nullable = true)\n",
      " |-- sub_grade: string (nullable = true)\n",
      " |-- verification_status: string (nullable = true)\n",
      " |-- tot_hi_cred_lim: double (nullable = true)\n",
      " |-- application_type: string (nullable = true)\n",
      " |-- join_annual_income: string (nullable = true)\n",
      " |-- verification_status_joint: string (nullable = true)\n",
      " |-- ingest_date: timestamp (nullable = false)\n",
      "\n"
     ]
    }
   ],
   "source": [
    "customer_df_renamed1.printSchema()"
   ]
  },
  {
   "cell_type": "code",
   "execution_count": 11,
   "id": "0fb632f1",
   "metadata": {},
   "outputs": [
    {
     "data": {
      "text/plain": [
       "2260701"
      ]
     },
     "execution_count": 11,
     "metadata": {},
     "output_type": "execute_result"
    }
   ],
   "source": [
    "customer_df_renamed1.count()"
   ]
  },
  {
   "cell_type": "code",
   "execution_count": 12,
   "id": "8042636d",
   "metadata": {},
   "outputs": [],
   "source": [
    "customers_distinct = customer_df_renamed1.distinct()"
   ]
  },
  {
   "cell_type": "code",
   "execution_count": 13,
   "id": "3e95dbe7",
   "metadata": {},
   "outputs": [
    {
     "data": {
      "text/plain": [
       "2260638"
      ]
     },
     "execution_count": 13,
     "metadata": {},
     "output_type": "execute_result"
    }
   ],
   "source": [
    "customers_distinct.count()"
   ]
  },
  {
   "cell_type": "code",
   "execution_count": 14,
   "id": "c7571748",
   "metadata": {},
   "outputs": [],
   "source": [
    "customers_distinct.createOrReplaceTempView(\"customers\")"
   ]
  },
  {
   "cell_type": "code",
   "execution_count": 15,
   "id": "fa3aa519",
   "metadata": {},
   "outputs": [],
   "source": [
    "customers_income_filtered = spark.sql(\"select * from customers where annualincome is not null\")"
   ]
  },
  {
   "cell_type": "code",
   "execution_count": 16,
   "id": "6742756b",
   "metadata": {},
   "outputs": [
    {
     "data": {
      "text/html": [
       "<table border='1'>\n",
       "<tr><th>member_id</th><th>emp_title</th><th>emp_length</th><th>home_ownership</th><th>annualincome</th><th>addr_state</th><th>zip_code</th><th>country</th><th>grade</th><th>sub_grade</th><th>verification_status</th><th>tot_hi_cred_lim</th><th>application_type</th><th>join_annual_income</th><th>verification_status_joint</th><th>ingest_date</th></tr>\n",
       "<tr><td>4bc4ad1a0316cae20...</td><td>Table Games Super...</td><td>10+ years</td><td>RENT</td><td>60000.0</td><td>NV</td><td>891xx</td><td>USA</td><td>D</td><td>D1</td><td>Source Verified</td><td>56303.0</td><td>Individual</td><td>null</td><td>null</td><td>2025-01-09 06:23:...</td></tr>\n",
       "<tr><td>0288c25190a653ddd...</td><td>Owner</td><td>5 years</td><td>MORTGAGE</td><td>40000.0</td><td>WA</td><td>981xx</td><td>USA</td><td>B</td><td>B1</td><td>Verified</td><td>118292.0</td><td>Individual</td><td>null</td><td>null</td><td>2025-01-09 06:23:...</td></tr>\n",
       "<tr><td>fad773e0f4eeef14c...</td><td>Store manager</td><td>10+ years</td><td>MORTGAGE</td><td>84000.0</td><td>NC</td><td>281xx</td><td>USA</td><td>C</td><td>C5</td><td>Source Verified</td><td>194444.0</td><td>Individual</td><td>null</td><td>null</td><td>2025-01-09 06:23:...</td></tr>\n",
       "<tr><td>06d55a7ec4a501d15...</td><td>nurse</td><td>10+ years</td><td>MORTGAGE</td><td>98978.0</td><td>NJ</td><td>073xx</td><td>USA</td><td>C</td><td>C4</td><td>Source Verified</td><td>482813.0</td><td>Individual</td><td>null</td><td>null</td><td>2025-01-09 06:23:...</td></tr>\n",
       "<tr><td>edaa0691990b1060b...</td><td>Office Manager</td><td>10+ years</td><td>RENT</td><td>85000.0</td><td>CA</td><td>956xx</td><td>USA</td><td>B</td><td>B3</td><td>Source Verified</td><td>17400.0</td><td>Individual</td><td>null</td><td>null</td><td>2025-01-09 06:23:...</td></tr>\n",
       "<tr><td>d2037dd155617dee4...</td><td>Maintenance Manager</td><td>8 years</td><td>MORTGAGE</td><td>130000.0</td><td>IN</td><td>471xx</td><td>USA</td><td>C</td><td>C5</td><td>Not Verified</td><td>567940.0</td><td>Individual</td><td>null</td><td>null</td><td>2025-01-09 06:23:...</td></tr>\n",
       "<tr><td>2d4947df94f7e662c...</td><td>Supervisor</td><td>9 years</td><td>RENT</td><td>59776.0</td><td>CA</td><td>959xx</td><td>USA</td><td>B</td><td>B5</td><td>Source Verified</td><td>96464.0</td><td>Individual</td><td>null</td><td>null</td><td>2025-01-09 06:23:...</td></tr>\n",
       "<tr><td>7b968fbc3f681f2d7...</td><td>Administrativr ma...</td><td>10+ years</td><td>RENT</td><td>76000.0</td><td>NY</td><td>112xx</td><td>USA</td><td>C</td><td>C4</td><td>Source Verified</td><td>22500.0</td><td>Individual</td><td>null</td><td>null</td><td>2025-01-09 06:23:...</td></tr>\n",
       "<tr><td>92c7ae48c5430f8af...</td><td>Heavy Machine Ope...</td><td>3 years</td><td>MORTGAGE</td><td>90000.0</td><td>PA</td><td>190xx</td><td>USA</td><td>C</td><td>C5</td><td>Source Verified</td><td>288256.0</td><td>Individual</td><td>null</td><td>null</td><td>2025-01-09 06:23:...</td></tr>\n",
       "<tr><td>e89e95ce26ddfdbcb...</td><td>Courier</td><td>3 years</td><td>MORTGAGE</td><td>106000.0</td><td>NJ</td><td>077xx</td><td>USA</td><td>B</td><td>B5</td><td>Verified</td><td>460296.0</td><td>Individual</td><td>null</td><td>null</td><td>2025-01-09 06:23:...</td></tr>\n",
       "<tr><td>2fc25f6f5468086b8...</td><td>MD</td><td>10+ years</td><td>RENT</td><td>100000.0</td><td>MI</td><td>482xx</td><td>USA</td><td>D</td><td>D1</td><td>Not Verified</td><td>46400.0</td><td>Individual</td><td>null</td><td>null</td><td>2025-01-09 06:23:...</td></tr>\n",
       "<tr><td>0c6b69836c44734a5...</td><td>Copyright Specialist</td><td>1 year</td><td>OWN</td><td>72000.0</td><td>CA</td><td>917xx</td><td>USA</td><td>B</td><td>B5</td><td>Source Verified</td><td>54768.0</td><td>Individual</td><td>null</td><td>null</td><td>2025-01-09 06:23:...</td></tr>\n",
       "<tr><td>0aae87b717aac8574...</td><td>Sr. Landman</td><td>&lt; 1 year</td><td>MORTGAGE</td><td>192000.0</td><td>CO</td><td>801xx</td><td>USA</td><td>B</td><td>B3</td><td>Source Verified</td><td>577640.0</td><td>Individual</td><td>null</td><td>null</td><td>2025-01-09 06:23:...</td></tr>\n",
       "<tr><td>16f368136bd3b4f35...</td><td>bacth maker</td><td>10+ years</td><td>RENT</td><td>45000.0</td><td>NJ</td><td>088xx</td><td>USA</td><td>C</td><td>C5</td><td>Verified</td><td>70549.0</td><td>Individual</td><td>null</td><td>null</td><td>2025-01-09 06:23:...</td></tr>\n",
       "<tr><td>decb3c5a5d4372cf9...</td><td>Performing Arts C...</td><td>10+ years</td><td>MORTGAGE</td><td>122000.0</td><td>AZ</td><td>852xx</td><td>USA</td><td>E</td><td>E1</td><td>Source Verified</td><td>384790.0</td><td>Individual</td><td>null</td><td>null</td><td>2025-01-09 06:23:...</td></tr>\n",
       "<tr><td>a3c07672e751d839d...</td><td>Commercial Sales ...</td><td>8 years</td><td>OWN</td><td>33363.0</td><td>MA</td><td>015xx</td><td>USA</td><td>E</td><td>E3</td><td>Source Verified</td><td>36139.0</td><td>Individual</td><td>null</td><td>null</td><td>2025-01-09 06:23:...</td></tr>\n",
       "<tr><td>93798547cc3d61bf3...</td><td>sr software engineer</td><td>2 years</td><td>MORTGAGE</td><td>110000.0</td><td>TX</td><td>787xx</td><td>USA</td><td>A</td><td>A1</td><td>Not Verified</td><td>318663.0</td><td>Individual</td><td>null</td><td>null</td><td>2025-01-09 06:23:...</td></tr>\n",
       "<tr><td>f2fbb813ed686365a...</td><td>Engineer</td><td>10+ years</td><td>RENT</td><td>65000.0</td><td>VA</td><td>220xx</td><td>USA</td><td>A</td><td>A2</td><td>Source Verified</td><td>50676.0</td><td>Individual</td><td>null</td><td>null</td><td>2025-01-09 06:23:...</td></tr>\n",
       "<tr><td>2546ffd5f4c7e2fce...</td><td>General Manager</td><td>7 years</td><td>RENT</td><td>100000.0</td><td>VA</td><td>201xx</td><td>USA</td><td>C</td><td>C3</td><td>Source Verified</td><td>134367.0</td><td>Individual</td><td>null</td><td>null</td><td>2025-01-09 06:23:...</td></tr>\n",
       "<tr><td>01b06ee63145016e6...</td><td>loader</td><td>7 years</td><td>OWN</td><td>37560.0</td><td>FL</td><td>322xx</td><td>USA</td><td>E</td><td>E2</td><td>Source Verified</td><td>20521.0</td><td>Individual</td><td>null</td><td>null</td><td>2025-01-09 06:23:...</td></tr>\n",
       "</table>\n",
       "only showing top 20 rows\n"
      ],
      "text/plain": [
       "+--------------------+--------------------+----------+--------------+------------+----------+--------+-------+-----+---------+-------------------+---------------+----------------+------------------+-------------------------+--------------------+\n",
       "|           member_id|           emp_title|emp_length|home_ownership|annualincome|addr_state|zip_code|country|grade|sub_grade|verification_status|tot_hi_cred_lim|application_type|join_annual_income|verification_status_joint|         ingest_date|\n",
       "+--------------------+--------------------+----------+--------------+------------+----------+--------+-------+-----+---------+-------------------+---------------+----------------+------------------+-------------------------+--------------------+\n",
       "|f583bc86d2f44bad6...|     account payable|    1 year|      MORTGAGE|     85000.0|        NJ|   073xx|    USA|    C|       C4|       Not Verified|       176268.0|      Individual|              null|                     null|2025-01-09 06:23:...|\n",
       "|e1624e5f8168ba74d...|     Claims adjuster|   3 years|      MORTGAGE|     38000.0|        IN|   462xx|    USA|    B|       B2|    Source Verified|       103480.0|      Individual|              null|                     null|2025-01-09 06:23:...|\n",
       "|31c713e644e48af29...|           President|   3 years|      MORTGAGE|     80000.0|        IL|   606xx|    USA|    A|       A2|       Not Verified|       271021.0|      Individual|              null|                     null|2025-01-09 06:23:...|\n",
       "|a4bcfbfc2a24245f7...|             Teacher|    1 year|          RENT|     30000.0|        LA|   708xx|    USA|    A|       A3|    Source Verified|        61232.0|      Individual|              null|                     null|2025-01-09 06:23:...|\n",
       "|198e34571d1126fd0...|Sr Production Coo...| 10+ years|          RENT|     46499.0|        PA|   184xx|    USA|    C|       C5|       Not Verified|        38748.0|      Individual|              null|                     null|2025-01-09 06:23:...|\n",
       "|5e16287e06f0ddc3a...|Sales Representative|   2 years|           OWN|     80000.0|        FL|   331xx|    USA|    A|       A3|    Source Verified|        51806.0|      Individual|              null|                     null|2025-01-09 06:23:...|\n",
       "|337ffa2971b258835...|      Medical coding|   4 years|          RENT|     30720.0|        OK|   730xx|    USA|    C|       C3|       Not Verified|        31648.0|      Individual|              null|                     null|2025-01-09 06:23:...|\n",
       "|680ec1722538341c9...|                null|      null|      MORTGAGE|     37000.0|        WA|   985xx|    USA|    D|       D4|           Verified|        58060.0|      Individual|              null|                     null|2025-01-09 06:23:...|\n",
       "|e380ee54e634a655c...|                null|      null|      MORTGAGE|    140000.0|        MN|   554xx|    USA|    C|       C1|           Verified|       578000.0|      Individual|              null|                     null|2025-01-09 06:23:...|\n",
       "|6ef90dcf4694f73ed...|            Mechanic| 10+ years|      MORTGAGE|     48000.0|        CA|   956xx|    USA|    C|       C3|    Source Verified|       227717.0|      Individual|              null|                     null|2025-01-09 06:23:...|\n",
       "|59bee8a35759a1905...|Sterile Processin...|   5 years|           OWN|     40000.0|        IL|   605xx|    USA|    C|       C2|           Verified|        27000.0|      Individual|              null|                     null|2025-01-09 06:23:...|\n",
       "|7d1d15183f21274ed...|    Support Engineer|   3 years|          RENT|     74500.0|        FL|   330xx|    USA|    B|       B3|       Not Verified|        80087.0|      Individual|              null|                     null|2025-01-09 06:23:...|\n",
       "|e09e56c7e8c71d383...|Business Analysis...|  < 1 year|          RENT|     77000.0|        PA|   150xx|    USA|    B|       B3|    Source Verified|       121484.0|      Individual|              null|                     null|2025-01-09 06:23:...|\n",
       "|6eba389adf248673f...|Application Analy...| 10+ years|      MORTGAGE|     42000.0|        MO|   657xx|    USA|    B|       B1|       Not Verified|       121500.0|      Individual|              null|                     null|2025-01-09 06:23:...|\n",
       "|b72bff4db7a0e1f51...|                null|      null|           OWN|     32000.0|        FL|   330xx|    USA|    B|       B3|       Not Verified|        16600.0|      Individual|              null|                     null|2025-01-09 06:23:...|\n",
       "|fce0df6c8a6933d50...|      executive chef|  < 1 year|          RENT|     70000.0|        CA|   902xx|    USA|    C|       C4|    Source Verified|        52532.0|      Individual|              null|                     null|2025-01-09 06:23:...|\n",
       "|ac4296b0a8157ae21...|             printer| 10+ years|      MORTGAGE|     80000.0|        IL|   601xx|    USA|    C|       C5|       Not Verified|       123145.0|      Individual|              null|                     null|2025-01-09 06:23:...|\n",
       "|889fa1621fb501c60...|    Supervisor/Guard|   7 years|           OWN|     39000.0|        PA|   191xx|    USA|    B|       B2|       Not Verified|        80025.0|      Individual|              null|                     null|2025-01-09 06:23:...|\n",
       "|2a37f82a438a743d1...|            Director|   3 years|      MORTGAGE|     70000.0|        OK|   730xx|    USA|    C|       C2|    Source Verified|        52859.0|      Individual|              null|                     null|2025-01-09 06:23:...|\n",
       "|4b6984ec9ff0c80d8...|Senior Staff Acco...|   3 years|          RENT|     65000.0|        NY|   104xx|    USA|    E|       E4|    Source Verified|        54713.0|      Individual|              null|                     null|2025-01-09 06:23:...|\n",
       "+--------------------+--------------------+----------+--------------+------------+----------+--------+-------+-----+---------+-------------------+---------------+----------------+------------------+-------------------------+--------------------+\n",
       "only showing top 20 rows"
      ]
     },
     "execution_count": 16,
     "metadata": {},
     "output_type": "execute_result"
    }
   ],
   "source": [
    "customers_income_filtered"
   ]
  },
  {
   "cell_type": "code",
   "execution_count": 17,
   "id": "cb5d83e2",
   "metadata": {},
   "outputs": [
    {
     "data": {
      "text/plain": [
       "2260634"
      ]
     },
     "execution_count": 17,
     "metadata": {},
     "output_type": "execute_result"
    }
   ],
   "source": [
    "customers_income_filtered.count()"
   ]
  },
  {
   "cell_type": "code",
   "execution_count": 18,
   "id": "1f024947",
   "metadata": {},
   "outputs": [],
   "source": [
    "customers_income_filtered.createOrReplaceTempView(\"customers\")"
   ]
  },
  {
   "cell_type": "code",
   "execution_count": 19,
   "id": "be615122",
   "metadata": {},
   "outputs": [],
   "source": [
    "from pyspark.sql.functions import regexp_replace, col"
   ]
  },
  {
   "cell_type": "code",
   "execution_count": 20,
   "id": "f711f8ff",
   "metadata": {},
   "outputs": [],
   "source": [
    "customers_emplength_cleaned = customers_income_filtered.withColumn(\"emp_length\", regexp_replace(col(\"emp_length\"), \"(\\D)\",\"\"))"
   ]
  },
  {
   "cell_type": "code",
   "execution_count": 21,
   "id": "de35fa2f",
   "metadata": {},
   "outputs": [
    {
     "data": {
      "text/html": [
       "<table border='1'>\n",
       "<tr><th>member_id</th><th>emp_title</th><th>emp_length</th><th>home_ownership</th><th>annualincome</th><th>addr_state</th><th>zip_code</th><th>country</th><th>grade</th><th>sub_grade</th><th>verification_status</th><th>tot_hi_cred_lim</th><th>application_type</th><th>join_annual_income</th><th>verification_status_joint</th><th>ingest_date</th></tr>\n",
       "<tr><td>8ac391fc8a7d24518...</td><td>Customer support ...</td><td>3</td><td>RENT</td><td>105000.0</td><td>OR</td><td>971xx</td><td>USA</td><td>C</td><td>C2</td><td>Not Verified</td><td>65200.0</td><td>Individual</td><td>null</td><td>null</td><td>2025-01-09 06:23:...</td></tr>\n",
       "<tr><td>db40e59a31b8f366c...</td><td>Workforce Coordin...</td><td>2</td><td>MORTGAGE</td><td>175000.0</td><td>IL</td><td>605xx</td><td>USA</td><td>B</td><td>B2</td><td>Source Verified</td><td>288757.0</td><td>Individual</td><td>null</td><td>null</td><td>2025-01-09 06:23:...</td></tr>\n",
       "<tr><td>2eb69e84de3570cff...</td><td>Radiology assistant</td><td>10</td><td>MORTGAGE</td><td>100000.0</td><td>NM</td><td>870xx</td><td>USA</td><td>C</td><td>C5</td><td>Not Verified</td><td>309294.0</td><td>Individual</td><td>null</td><td>null</td><td>2025-01-09 06:23:...</td></tr>\n",
       "<tr><td>d48591a49149ab42f...</td><td>CEO/CFO</td><td>10</td><td>OWN</td><td>60000.0</td><td>CA</td><td>956xx</td><td>USA</td><td>B</td><td>B1</td><td>Not Verified</td><td>100085.0</td><td>Individual</td><td>null</td><td>null</td><td>2025-01-09 06:23:...</td></tr>\n",
       "<tr><td>8e58059bb3863d669...</td><td>Driver</td><td>10</td><td>RENT</td><td>190000.0</td><td>FL</td><td>334xx</td><td>USA</td><td>A</td><td>A4</td><td>Not Verified</td><td>75000.0</td><td>Individual</td><td>null</td><td>null</td><td>2025-01-09 06:23:...</td></tr>\n",
       "<tr><td>54e665021732b61f4...</td><td>Delivery supervisor</td><td>10</td><td>MORTGAGE</td><td>75000.0</td><td>CA</td><td>930xx</td><td>USA</td><td>B</td><td>B1</td><td>Source Verified</td><td>353630.0</td><td>Individual</td><td>null</td><td>null</td><td>2025-01-09 06:23:...</td></tr>\n",
       "<tr><td>fd53e5c5fc9ba4c54...</td><td>Accountant</td><td>1</td><td>RENT</td><td>83500.0</td><td>IL</td><td>604xx</td><td>USA</td><td>C</td><td>C1</td><td>Source Verified</td><td>129118.0</td><td>Individual</td><td>null</td><td>null</td><td>2025-01-09 06:23:...</td></tr>\n",
       "<tr><td>8900cff0f248033b5...</td><td>Mechanic</td><td>1</td><td>RENT</td><td>110000.0</td><td>VA</td><td>236xx</td><td>USA</td><td>B</td><td>B5</td><td>Source Verified</td><td>57399.0</td><td>Individual</td><td>null</td><td>null</td><td>2025-01-09 06:23:...</td></tr>\n",
       "<tr><td>a2821b2a819f45b01...</td><td>Supervisor</td><td>10</td><td>MORTGAGE</td><td>98000.0</td><td>MA</td><td>011xx</td><td>USA</td><td>E</td><td>E5</td><td>Source Verified</td><td>201939.0</td><td>Individual</td><td>null</td><td>null</td><td>2025-01-09 06:23:...</td></tr>\n",
       "<tr><td>750569c5ba3870e24...</td><td>Cable Installer, ...</td><td>9</td><td>MORTGAGE</td><td>61811.0</td><td>NC</td><td>283xx</td><td>USA</td><td>A</td><td>A1</td><td>Source Verified</td><td>179990.0</td><td>Individual</td><td>null</td><td>null</td><td>2025-01-09 06:23:...</td></tr>\n",
       "<tr><td>37bb1ec097a654e1a...</td><td>Graduate Assistance</td><td>1</td><td>RENT</td><td>45000.0</td><td>IN</td><td>474xx</td><td>USA</td><td>C</td><td>C5</td><td>Source Verified</td><td>114020.0</td><td>Individual</td><td>null</td><td>null</td><td>2025-01-09 06:23:...</td></tr>\n",
       "<tr><td>3d476e660837f9be4...</td><td>executive houseke...</td><td>9</td><td>RENT</td><td>50000.0</td><td>MA</td><td>022xx</td><td>USA</td><td>D</td><td>D2</td><td>Verified</td><td>86900.0</td><td>Individual</td><td>null</td><td>null</td><td>2025-01-09 06:23:...</td></tr>\n",
       "<tr><td>5bc989748c560e033...</td><td>Software Engineer</td><td>3</td><td>RENT</td><td>90000.0</td><td>NY</td><td>115xx</td><td>USA</td><td>C</td><td>C1</td><td>Verified</td><td>25248.0</td><td>Individual</td><td>null</td><td>null</td><td>2025-01-09 06:23:...</td></tr>\n",
       "<tr><td>1f6ce8dad5d3fcfe9...</td><td>Billing &amp; Complia...</td><td>2</td><td>RENT</td><td>65000.0</td><td>NY</td><td>123xx</td><td>USA</td><td>B</td><td>B3</td><td>Verified</td><td>87011.0</td><td>Individual</td><td>null</td><td>null</td><td>2025-01-09 06:23:...</td></tr>\n",
       "<tr><td>6bdc218a3d5b393b0...</td><td>Head of Marketing</td><td>2</td><td>MORTGAGE</td><td>120000.0</td><td>TX</td><td>787xx</td><td>USA</td><td>E</td><td>E4</td><td>Source Verified</td><td>343279.0</td><td>Individual</td><td>null</td><td>null</td><td>2025-01-09 06:23:...</td></tr>\n",
       "<tr><td>1242438aa5f992bbd...</td><td>Operations Manager</td><td>1</td><td>MORTGAGE</td><td>65000.0</td><td>AZ</td><td>850xx</td><td>USA</td><td>A</td><td>A1</td><td>Not Verified</td><td>262615.0</td><td>Individual</td><td>null</td><td>null</td><td>2025-01-09 06:23:...</td></tr>\n",
       "<tr><td>baa1fd9c3c73ab0da...</td><td>Electronics Mechanic</td><td>10</td><td>MORTGAGE</td><td>91000.0</td><td>PA</td><td>187xx</td><td>USA</td><td>A</td><td>A1</td><td>Not Verified</td><td>230129.0</td><td>Individual</td><td>null</td><td>null</td><td>2025-01-09 06:23:...</td></tr>\n",
       "<tr><td>cc84f83e3c308303a...</td><td>Investigative Ana...</td><td>1</td><td>RENT</td><td>103000.0</td><td>CA</td><td>940xx</td><td>USA</td><td>B</td><td>B5</td><td>Verified</td><td>704607.0</td><td>Individual</td><td>null</td><td>null</td><td>2025-01-09 06:23:...</td></tr>\n",
       "<tr><td>aa13286860e3fe445...</td><td>Dental Hygienist</td><td>2</td><td>RENT</td><td>66000.0</td><td>TX</td><td>787xx</td><td>USA</td><td>B</td><td>B1</td><td>Source Verified</td><td>102456.0</td><td>Individual</td><td>null</td><td>null</td><td>2025-01-09 06:23:...</td></tr>\n",
       "<tr><td>eeb674165d72ce852...</td><td>EVS</td><td>10</td><td>MORTGAGE</td><td>31000.0</td><td>KY</td><td>411xx</td><td>USA</td><td>B</td><td>B4</td><td>Not Verified</td><td>96265.0</td><td>Individual</td><td>null</td><td>null</td><td>2025-01-09 06:23:...</td></tr>\n",
       "</table>\n",
       "only showing top 20 rows\n"
      ],
      "text/plain": [
       "+--------------------+--------------------+----------+--------------+------------+----------+--------+-------+-----+---------+-------------------+---------------+----------------+------------------+-------------------------+--------------------+\n",
       "|           member_id|           emp_title|emp_length|home_ownership|annualincome|addr_state|zip_code|country|grade|sub_grade|verification_status|tot_hi_cred_lim|application_type|join_annual_income|verification_status_joint|         ingest_date|\n",
       "+--------------------+--------------------+----------+--------------+------------+----------+--------+-------+-----+---------+-------------------+---------------+----------------+------------------+-------------------------+--------------------+\n",
       "|0c49b69afccc7a44b...|          Magistrate|        10|           OWN|    116000.0|        CO|   801xx|    USA|    E|       E1|           Verified|       520440.0|      Individual|              null|                     null|2025-01-09 06:23:...|\n",
       "|89ab32f57792a558f...|           Counselor|        10|      MORTGAGE|     72000.0|        MI|   481xx|    USA|    B|       B3|           Verified|        36901.0|      Individual|              null|                     null|2025-01-09 06:23:...|\n",
       "|3a171f2449cd9e97f...|   Account Executive|         1|          RENT|    100000.0|        NY|   111xx|    USA|    C|       C2|    Source Verified|        84077.0|      Individual|              null|                     null|2025-01-09 06:23:...|\n",
       "|45cbbd4be49814e0b...|       Nurse Manager|         5|      MORTGAGE|     98259.0|        OR|   973xx|    USA|    D|       D1|       Not Verified|       131045.0|      Individual|              null|                     null|2025-01-09 06:23:...|\n",
       "|dd02678ff91a7cd3b...|Senior Financial ...|         7|          RENT|    100000.0|        NY|   136xx|    USA|    E|       E2|           Verified|        86858.0|      Individual|              null|                     null|2025-01-09 06:23:...|\n",
       "|c70293085fed835f3...|        IT Architect|         9|          RENT|    150000.0|        CA|   945xx|    USA|    A|       A5|    Source Verified|        49386.0|      Individual|              null|                     null|2025-01-09 06:23:...|\n",
       "|b7b05830da4509511...|   Lead Receptionist|        10|          RENT|     39000.0|        MO|   640xx|    USA|    A|       A4|       Not Verified|        18300.0|      Individual|              null|                     null|2025-01-09 06:23:...|\n",
       "|7a60e1eebec0006e5...|  mechanical planner|         9|           OWN|     70000.0|        LA|   710xx|    USA|    D|       D4|           Verified|        97114.0|      Individual|              null|                     null|2025-01-09 06:23:...|\n",
       "|e42dddc32dbf60386...|    BUSINESS MANAGER|         2|      MORTGAGE|    140000.0|        TX|   770xx|    USA|    C|       C3|           Verified|        45044.0|      Individual|              null|                     null|2025-01-09 06:23:...|\n",
       "|7a0980caffef28c54...|         IT Director|         2|           OWN|    196000.0|        FL|   337xx|    USA|    B|       B2|    Source Verified|       605228.0|      Individual|              null|                     null|2025-01-09 06:23:...|\n",
       "|575546ca2bfb15d52...|manager/sandblast...|         6|          RENT|     96000.0|        FL|   331xx|    USA|    E|       E5|           Verified|        59060.0|      Individual|              null|                     null|2025-01-09 06:23:...|\n",
       "|52213348e294b4f4b...|        Lead Trainer|        10|           OWN|     26000.0|        TX|   774xx|    USA|    C|       C4|    Source Verified|        40592.0|      Individual|              null|                     null|2025-01-09 06:23:...|\n",
       "|7868ca0b3fbbbc656...|        merchandiser|         1|          RENT|     27100.0|        FL|   335xx|    USA|    B|       B2|       Not Verified|        26577.0|      Individual|              null|                     null|2025-01-09 06:23:...|\n",
       "|d174269b59b159ea8...|Air traffic contr...|         8|      MORTGAGE|    145000.0|        FL|   335xx|    USA|    A|       A2|       Not Verified|       428917.0|      Individual|              null|                     null|2025-01-09 06:23:...|\n",
       "|895638c1fc0f706bd...|Office Manager, R...|        10|      MORTGAGE|    140000.0|        CA|   945xx|    USA|    C|       C2|       Not Verified|       633291.0|      Individual|              null|                     null|2025-01-09 06:23:...|\n",
       "|659dfbf1de9760a6b...| DIRECTOR OR NURSING|         1|      MORTGAGE|     70000.0|        LA|   704xx|    USA|    C|       C2|       Not Verified|       293299.0|       Joint App|          220000.0|             Not Verified|2025-01-09 06:23:...|\n",
       "|700a2da9fad103417...|Technology Catego...|        10|      MORTGAGE|    135000.0|        MD|   207xx|    USA|    B|       B1|    Source Verified|       464698.0|      Individual|              null|                     null|2025-01-09 06:23:...|\n",
       "|2c030ec6d63d2ecea...|Senior Vice Presi...|         5|      MORTGAGE|    210000.0|        CA|   933xx|    USA|    A|       A5|    Source Verified|       439405.0|      Individual|              null|                     null|2025-01-09 06:23:...|\n",
       "|fcb64e51e0247a11d...|             Manager|        10|      MORTGAGE|     62400.0|        OH|   442xx|    USA|    C|       C1|    Source Verified|        39264.0|      Individual|              null|                     null|2025-01-09 06:23:...|\n",
       "|bb0c6dca4f65834bf...|             Manager|        10|      MORTGAGE|     95000.0|        MO|   631xx|    USA|    B|       B2|           Verified|       249808.0|      Individual|              null|                     null|2025-01-09 06:23:...|\n",
       "+--------------------+--------------------+----------+--------------+------------+----------+--------+-------+-----+---------+-------------------+---------------+----------------+------------------+-------------------------+--------------------+\n",
       "only showing top 20 rows"
      ]
     },
     "execution_count": 21,
     "metadata": {},
     "output_type": "execute_result"
    }
   ],
   "source": [
    "customers_emplength_cleaned"
   ]
  },
  {
   "cell_type": "code",
   "execution_count": 22,
   "id": "8e813281",
   "metadata": {},
   "outputs": [],
   "source": [
    "customers_emplength_casted = customers_emplength_cleaned.withColumn(\"emp_length\", customers_emplength_cleaned.emp_length.cast('int'))"
   ]
  },
  {
   "cell_type": "code",
   "execution_count": 23,
   "id": "c2c5f96d",
   "metadata": {},
   "outputs": [
    {
     "name": "stdout",
     "output_type": "stream",
     "text": [
      "root\n",
      " |-- member_id: string (nullable = true)\n",
      " |-- emp_title: string (nullable = true)\n",
      " |-- emp_length: integer (nullable = true)\n",
      " |-- home_ownership: string (nullable = true)\n",
      " |-- annualincome: string (nullable = true)\n",
      " |-- addr_state: string (nullable = true)\n",
      " |-- zip_code: string (nullable = true)\n",
      " |-- country: string (nullable = true)\n",
      " |-- grade: string (nullable = true)\n",
      " |-- sub_grade: string (nullable = true)\n",
      " |-- verification_status: string (nullable = true)\n",
      " |-- tot_hi_cred_lim: double (nullable = true)\n",
      " |-- application_type: string (nullable = true)\n",
      " |-- join_annual_income: string (nullable = true)\n",
      " |-- verification_status_joint: string (nullable = true)\n",
      " |-- ingest_date: timestamp (nullable = false)\n",
      "\n"
     ]
    }
   ],
   "source": [
    "customers_emplength_casted.printSchema()"
   ]
  },
  {
   "cell_type": "code",
   "execution_count": 24,
   "id": "3a259546",
   "metadata": {},
   "outputs": [],
   "source": [
    "customers_emplength_casted.createOrReplaceTempView(\"customers\")"
   ]
  },
  {
   "cell_type": "code",
   "execution_count": 25,
   "id": "8492b63f",
   "metadata": {},
   "outputs": [
    {
     "data": {
      "text/html": [
       "<table border='1'>\n",
       "<tr><th>member_id</th><th>emp_title</th><th>emp_length</th><th>home_ownership</th><th>annualincome</th><th>addr_state</th><th>zip_code</th><th>country</th><th>grade</th><th>sub_grade</th><th>verification_status</th><th>tot_hi_cred_lim</th><th>application_type</th><th>join_annual_income</th><th>verification_status_joint</th><th>ingest_date</th></tr>\n",
       "<tr><td>85a9456290c267660...</td><td>null</td><td>null</td><td>MORTGAGE</td><td>95000.0</td><td>TX</td><td>777xx</td><td>USA</td><td>C</td><td>C4</td><td>Source Verified</td><td>204908.0</td><td>Individual</td><td>null</td><td>null</td><td>2025-01-09 06:23:...</td></tr>\n",
       "<tr><td>b13d99e47a571fdcd...</td><td>null</td><td>null</td><td>MORTGAGE</td><td>105000.0</td><td>OK</td><td>743xx</td><td>USA</td><td>B</td><td>B2</td><td>Verified</td><td>407912.0</td><td>Individual</td><td>null</td><td>null</td><td>2025-01-09 06:23:...</td></tr>\n",
       "<tr><td>a86d409ba90a49142...</td><td>null</td><td>null</td><td>RENT</td><td>32000.0</td><td>MO</td><td>630xx</td><td>USA</td><td>D</td><td>D5</td><td>Verified</td><td>25373.0</td><td>Individual</td><td>null</td><td>null</td><td>2025-01-09 06:23:...</td></tr>\n",
       "<tr><td>47b660060cfb23954...</td><td>null</td><td>null</td><td>MORTGAGE</td><td>61000.0</td><td>TN</td><td>373xx</td><td>USA</td><td>C</td><td>C4</td><td>Verified</td><td>311209.0</td><td>Individual</td><td>null</td><td>null</td><td>2025-01-09 06:23:...</td></tr>\n",
       "<tr><td>27724d4de65a0b134...</td><td>null</td><td>null</td><td>MORTGAGE</td><td>33563.0</td><td>AL</td><td>357xx</td><td>USA</td><td>D</td><td>D2</td><td>Verified</td><td>149332.0</td><td>Individual</td><td>null</td><td>null</td><td>2025-01-09 06:23:...</td></tr>\n",
       "<tr><td>65d107d545aaccb20...</td><td>null</td><td>null</td><td>RENT</td><td>33000.0</td><td>PA</td><td>191xx</td><td>USA</td><td>E</td><td>E3</td><td>Verified</td><td>42668.0</td><td>Individual</td><td>null</td><td>null</td><td>2025-01-09 06:23:...</td></tr>\n",
       "<tr><td>c072448b566da89eb...</td><td>null</td><td>null</td><td>MORTGAGE</td><td>37884.0</td><td>MO</td><td>657xx</td><td>USA</td><td>E</td><td>E3</td><td>Verified</td><td>57605.0</td><td>Individual</td><td>null</td><td>null</td><td>2025-01-09 06:23:...</td></tr>\n",
       "<tr><td>7f25480753ed84c06...</td><td>null</td><td>null</td><td>RENT</td><td>132000.0</td><td>AZ</td><td>852xx</td><td>USA</td><td>C</td><td>C2</td><td>Verified</td><td>85467.0</td><td>Individual</td><td>null</td><td>null</td><td>2025-01-09 06:23:...</td></tr>\n",
       "<tr><td>bd622b8383da49053...</td><td>null</td><td>null</td><td>RENT</td><td>45000.0</td><td>MI</td><td>490xx</td><td>USA</td><td>E</td><td>E2</td><td>Verified</td><td>19800.0</td><td>Individual</td><td>null</td><td>null</td><td>2025-01-09 06:23:...</td></tr>\n",
       "<tr><td>f6f71710ec04347db...</td><td>null</td><td>null</td><td>MORTGAGE</td><td>58000.0</td><td>CA</td><td>902xx</td><td>USA</td><td>C</td><td>C3</td><td>Verified</td><td>58600.0</td><td>Individual</td><td>null</td><td>null</td><td>2025-01-09 06:23:...</td></tr>\n",
       "<tr><td>d24b38d20a49721c5...</td><td>null</td><td>null</td><td>MORTGAGE</td><td>52000.0</td><td>MA</td><td>015xx</td><td>USA</td><td>D</td><td>D4</td><td>Source Verified</td><td>180270.0</td><td>Individual</td><td>null</td><td>null</td><td>2025-01-09 06:23:...</td></tr>\n",
       "<tr><td>937f8aeae81f9103d...</td><td>null</td><td>null</td><td>MORTGAGE</td><td>57153.0</td><td>PA</td><td>159xx</td><td>USA</td><td>C</td><td>C3</td><td>Verified</td><td>156900.0</td><td>Individual</td><td>null</td><td>null</td><td>2025-01-09 06:23:...</td></tr>\n",
       "<tr><td>4f311cd91a2dd1c36...</td><td>null</td><td>null</td><td>RENT</td><td>86881.0</td><td>NV</td><td>891xx</td><td>USA</td><td>A</td><td>A5</td><td>Verified</td><td>55890.0</td><td>Individual</td><td>null</td><td>null</td><td>2025-01-09 06:23:...</td></tr>\n",
       "<tr><td>2632d00140ea097fd...</td><td>null</td><td>null</td><td>RENT</td><td>30000.0</td><td>MO</td><td>633xx</td><td>USA</td><td>C</td><td>C1</td><td>Verified</td><td>26078.0</td><td>Individual</td><td>null</td><td>null</td><td>2025-01-09 06:23:...</td></tr>\n",
       "<tr><td>b8d801f5903caf7d5...</td><td>null</td><td>null</td><td>MORTGAGE</td><td>80000.0</td><td>NC</td><td>282xx</td><td>USA</td><td>C</td><td>C5</td><td>Verified</td><td>393623.0</td><td>Individual</td><td>null</td><td>null</td><td>2025-01-09 06:23:...</td></tr>\n",
       "<tr><td>af3cb0ac1a9abbfa6...</td><td>null</td><td>null</td><td>MORTGAGE</td><td>81800.0</td><td>NV</td><td>890xx</td><td>USA</td><td>B</td><td>B4</td><td>Verified</td><td>229022.0</td><td>Individual</td><td>null</td><td>null</td><td>2025-01-09 06:23:...</td></tr>\n",
       "<tr><td>ed5c9a25976f8d5b2...</td><td>null</td><td>null</td><td>RENT</td><td>15336.0</td><td>AK</td><td>996xx</td><td>USA</td><td>D</td><td>D2</td><td>Verified</td><td>26100.0</td><td>Individual</td><td>null</td><td>null</td><td>2025-01-09 06:23:...</td></tr>\n",
       "<tr><td>b2d6f1ff9de6e0750...</td><td>null</td><td>null</td><td>OWN</td><td>55000.0</td><td>WA</td><td>986xx</td><td>USA</td><td>B</td><td>B4</td><td>Verified</td><td>38592.0</td><td>Individual</td><td>null</td><td>null</td><td>2025-01-09 06:23:...</td></tr>\n",
       "<tr><td>c42593764b5f3bb54...</td><td>null</td><td>null</td><td>RENT</td><td>24720.0</td><td>CT</td><td>065xx</td><td>USA</td><td>E</td><td>E4</td><td>Verified</td><td>15919.0</td><td>Individual</td><td>null</td><td>null</td><td>2025-01-09 06:23:...</td></tr>\n",
       "<tr><td>8aadb7ac7966b6225...</td><td>null</td><td>null</td><td>MORTGAGE</td><td>57000.0</td><td>TX</td><td>759xx</td><td>USA</td><td>B</td><td>B2</td><td>Verified</td><td>100435.0</td><td>Individual</td><td>null</td><td>null</td><td>2025-01-09 06:23:...</td></tr>\n",
       "</table>\n",
       "only showing top 20 rows\n"
      ],
      "text/plain": [
       "+--------------------+---------+----------+--------------+------------+----------+--------+-------+-----+---------+-------------------+---------------+----------------+------------------+-------------------------+--------------------+\n",
       "|           member_id|emp_title|emp_length|home_ownership|annualincome|addr_state|zip_code|country|grade|sub_grade|verification_status|tot_hi_cred_lim|application_type|join_annual_income|verification_status_joint|         ingest_date|\n",
       "+--------------------+---------+----------+--------------+------------+----------+--------+-------+-----+---------+-------------------+---------------+----------------+------------------+-------------------------+--------------------+\n",
       "|005df9658aef6e3fd...|     null|      null|          RENT|     36000.0|        FL|   333xx|    USA|    B|       B2|       Not Verified|        48200.0|      Individual|              null|                     null|2025-01-09 06:23:...|\n",
       "|5e4c00db6f9f75c0b...|     null|      null|           OWN|     16000.0|        TX|   754xx|    USA|    E|       E2|           Verified|        40697.0|       Joint App|           48000.0|                 Verified|2025-01-09 06:23:...|\n",
       "|8343c77e415c24eb4...|     null|      null|      MORTGAGE|    105500.0|        MA|   023xx|    USA|    B|       B1|    Source Verified|       199744.0|      Individual|              null|                     null|2025-01-09 06:23:...|\n",
       "|3b83e85b6e601aff1...|     null|      null|           OWN|     52000.0|        FL|   334xx|    USA|    D|       D2|    Source Verified|        61683.0|      Individual|              null|                     null|2025-01-09 06:23:...|\n",
       "|2934ccb0cd1d2db25...|     null|      null|      MORTGAGE|     32000.0|        MI|   487xx|    USA|    D|       D3|           Verified|        97965.0|      Individual|              null|                     null|2025-01-09 06:23:...|\n",
       "|2e19c912f568f767a...|     null|      null|      MORTGAGE|     53000.0|        SC|   292xx|    USA|    B|       B1|           Verified|       246950.0|      Individual|              null|                     null|2025-01-09 06:23:...|\n",
       "|02795f6e3da12497e...|     null|      null|           OWN|     35000.0|        NV|   891xx|    USA|    B|       B5|    Source Verified|        65600.0|      Individual|              null|                     null|2025-01-09 06:23:...|\n",
       "|71180c2d5572e5f86...|     null|      null|      MORTGAGE|         0.0|        NC|   285xx|    USA|    D|       D4|       Not Verified|       105290.0|       Joint App|           64000.0|             Not Verified|2025-01-09 06:23:...|\n",
       "|af9074b189263c0b9...|     null|      null|           OWN|     42000.0|        SC|   290xx|    USA|    C|       C3|       Not Verified|        35800.0|      Individual|              null|                     null|2025-01-09 06:23:...|\n",
       "|c1fd806c0bf2a6b63...|     null|      null|      MORTGAGE|     47016.0|        NC|   275xx|    USA|    B|       B1|           Verified|       210300.0|      Individual|              null|                     null|2025-01-09 06:23:...|\n",
       "|8e3746236e68087d3...|     null|      null|      MORTGAGE|     56000.0|        FL|   339xx|    USA|    A|       A3|       Not Verified|       409851.0|      Individual|              null|                     null|2025-01-09 06:23:...|\n",
       "|d23be3fbd08bf938a...|     null|      null|          RENT|     63500.0|        GA|   300xx|    USA|    A|       A3|       Not Verified|        54495.0|      Individual|              null|                     null|2025-01-09 06:23:...|\n",
       "|caba4bf6ee23e73ee...|     null|      null|      MORTGAGE|     52000.0|        TN|   370xx|    USA|    A|       A2|       Not Verified|       178007.0|      Individual|              null|                     null|2025-01-09 06:23:...|\n",
       "|8f08adb5299c3d3ff...|     null|      null|          RENT|     11150.0|        KY|   400xx|    USA|    D|       D3|           Verified|        40500.0|       Joint App|          157150.0|                 Verified|2025-01-09 06:23:...|\n",
       "|344aaa97b751ae44b...|     null|      null|           OWN|     31000.0|        OR|   973xx|    USA|    B|       B4|           Verified|        27300.0|      Individual|              null|                     null|2025-01-09 06:23:...|\n",
       "|9f3d1fabd77c38b32...|     null|      null|      MORTGAGE|     87000.0|        NY|   139xx|    USA|    B|       B2|       Not Verified|       273100.0|       Joint App|           87000.0|             Not Verified|2025-01-09 06:23:...|\n",
       "|5e17692e43f9cf6cd...|     null|      null|      MORTGAGE|     29000.0|        NJ|   087xx|    USA|    B|       B3|    Source Verified|        65594.0|      Individual|              null|                     null|2025-01-09 06:23:...|\n",
       "|0e0c5169b28f2f3db...|     null|      null|          RENT|         0.0|        GA|   303xx|    USA|    A|       A3|       Not Verified|       270607.0|       Joint App|           43000.0|             Not Verified|2025-01-09 06:23:...|\n",
       "|386ec811361810d97...|     null|      null|          RENT|    130000.0|        NJ|   086xx|    USA|    C|       C3|    Source Verified|        61200.0|      Individual|              null|                     null|2025-01-09 06:23:...|\n",
       "|2bd53dca03969db57...|     null|      null|          RENT|     12000.0|        NJ|   088xx|    USA|    F|       F1|       Not Verified|        14900.0|       Joint App|           75000.0|             Not Verified|2025-01-09 06:23:...|\n",
       "+--------------------+---------+----------+--------------+------------+----------+--------+-------+-----+---------+-------------------+---------------+----------------+------------------+-------------------------+--------------------+\n",
       "only showing top 20 rows"
      ]
     },
     "execution_count": 25,
     "metadata": {},
     "output_type": "execute_result"
    }
   ],
   "source": [
    " spark.sql(\"select * from customers where emp_length is null\")"
   ]
  },
  {
   "cell_type": "code",
   "execution_count": 26,
   "id": "a66c1230",
   "metadata": {},
   "outputs": [],
   "source": [
    "avg_emp_length = spark.sql(\"select floor(avg(emp_length)) as avg_emp_length from customers\").collect()"
   ]
  },
  {
   "cell_type": "code",
   "execution_count": 27,
   "id": "6fc4fc08",
   "metadata": {},
   "outputs": [
    {
     "data": {
      "text/plain": [
       "[Row(avg_emp_length=6)]"
      ]
     },
     "execution_count": 27,
     "metadata": {},
     "output_type": "execute_result"
    }
   ],
   "source": [
    "avg_emp_length"
   ]
  },
  {
   "cell_type": "code",
   "execution_count": 28,
   "id": "ce5834d8",
   "metadata": {},
   "outputs": [],
   "source": [
    "avg_emp_duration = avg_emp_length[0][0]"
   ]
  },
  {
   "cell_type": "code",
   "execution_count": 29,
   "id": "4143d83d",
   "metadata": {},
   "outputs": [],
   "source": [
    "customers_emplength_replaced = customers_emplength_casted.na.fill(avg_emp_duration, subset=['emp_length'])"
   ]
  },
  {
   "cell_type": "code",
   "execution_count": 30,
   "id": "f4fc12ae",
   "metadata": {},
   "outputs": [
    {
     "data": {
      "text/html": [
       "<table border='1'>\n",
       "<tr><th>member_id</th><th>emp_title</th><th>emp_length</th><th>home_ownership</th><th>annualincome</th><th>addr_state</th><th>zip_code</th><th>country</th><th>grade</th><th>sub_grade</th><th>verification_status</th><th>tot_hi_cred_lim</th><th>application_type</th><th>join_annual_income</th><th>verification_status_joint</th><th>ingest_date</th></tr>\n",
       "<tr><td>7165a91acf0cc30a3...</td><td>mail assistant</td><td>10</td><td>MORTGAGE</td><td>40000.0</td><td>VA</td><td>220xx</td><td>USA</td><td>C</td><td>C2</td><td>Not Verified</td><td>223400.0</td><td>Individual</td><td>null</td><td>null</td><td>2025-01-09 06:23:...</td></tr>\n",
       "<tr><td>d659f5f90ca551c32...</td><td>Social worker I&#x27;VE</td><td>10</td><td>RENT</td><td>48000.0</td><td>HI</td><td>967xx</td><td>USA</td><td>F</td><td>F1</td><td>Source Verified</td><td>39554.0</td><td>Individual</td><td>null</td><td>null</td><td>2025-01-09 06:23:...</td></tr>\n",
       "<tr><td>7b759c21bb6ca4192...</td><td>null</td><td>6</td><td>MORTGAGE</td><td>13400.0</td><td>TN</td><td>377xx</td><td>USA</td><td>C</td><td>C3</td><td>Verified</td><td>58583.0</td><td>Individual</td><td>null</td><td>null</td><td>2025-01-09 06:23:...</td></tr>\n",
       "<tr><td>480f7c46dae9bc890...</td><td>Supervisor</td><td>10</td><td>MORTGAGE</td><td>106000.0</td><td>VA</td><td>235xx</td><td>USA</td><td>B</td><td>B3</td><td>Verified</td><td>409734.0</td><td>Individual</td><td>null</td><td>null</td><td>2025-01-09 06:23:...</td></tr>\n",
       "<tr><td>597502e50abbbf05f...</td><td>Director of Sales</td><td>8</td><td>MORTGAGE</td><td>55000.0</td><td>FL</td><td>336xx</td><td>USA</td><td>A</td><td>A2</td><td>Not Verified</td><td>168228.0</td><td>Individual</td><td>null</td><td>null</td><td>2025-01-09 06:23:...</td></tr>\n",
       "<tr><td>b9a2d4777f7e938c5...</td><td>cashier/ lead</td><td>10</td><td>RENT</td><td>32000.0</td><td>CA</td><td>940xx</td><td>USA</td><td>D</td><td>D5</td><td>Source Verified</td><td>40656.0</td><td>Individual</td><td>null</td><td>null</td><td>2025-01-09 06:23:...</td></tr>\n",
       "<tr><td>7458381d45fbb3285...</td><td>RN</td><td>1</td><td>RENT</td><td>58000.0</td><td>NC</td><td>282xx</td><td>USA</td><td>C</td><td>C2</td><td>Not Verified</td><td>86065.0</td><td>Individual</td><td>null</td><td>null</td><td>2025-01-09 06:23:...</td></tr>\n",
       "<tr><td>ef8545a3f099d560e...</td><td>Customer service ...</td><td>10</td><td>OWN</td><td>45000.0</td><td>MD</td><td>211xx</td><td>USA</td><td>C</td><td>C2</td><td>Not Verified</td><td>193934.0</td><td>Individual</td><td>null</td><td>null</td><td>2025-01-09 06:23:...</td></tr>\n",
       "<tr><td>392a222e732ab6e22...</td><td>field clerk Hydro</td><td>10</td><td>OWN</td><td>91375.0</td><td>CA</td><td>956xx</td><td>USA</td><td>D</td><td>D2</td><td>Verified</td><td>276994.0</td><td>Individual</td><td>null</td><td>null</td><td>2025-01-09 06:23:...</td></tr>\n",
       "<tr><td>d5a4dbe570f5fc41a...</td><td>Senior Analyst</td><td>6</td><td>RENT</td><td>105000.0</td><td>CA</td><td>926xx</td><td>USA</td><td>A</td><td>A2</td><td>Source Verified</td><td>96416.0</td><td>Individual</td><td>null</td><td>null</td><td>2025-01-09 06:23:...</td></tr>\n",
       "<tr><td>bd880dfc7c45c6dc4...</td><td>Managing Director...</td><td>4</td><td>MORTGAGE</td><td>401749.0</td><td>IL</td><td>605xx</td><td>USA</td><td>C</td><td>C1</td><td>Source Verified</td><td>608753.0</td><td>Individual</td><td>null</td><td>null</td><td>2025-01-09 06:23:...</td></tr>\n",
       "<tr><td>a1614116a0816cebf...</td><td>Social Worker</td><td>3</td><td>RENT</td><td>70000.0</td><td>NJ</td><td>087xx</td><td>USA</td><td>B</td><td>B2</td><td>Not Verified</td><td>58036.0</td><td>Individual</td><td>null</td><td>null</td><td>2025-01-09 06:23:...</td></tr>\n",
       "<tr><td>9e86ecf784b5edb28...</td><td>MTS IV</td><td>10</td><td>MORTGAGE</td><td>132000.0</td><td>AL</td><td>357xx</td><td>USA</td><td>E</td><td>E2</td><td>Verified</td><td>598799.0</td><td>Individual</td><td>null</td><td>null</td><td>2025-01-09 06:23:...</td></tr>\n",
       "<tr><td>e6ab52710ec499006...</td><td>null</td><td>6</td><td>MORTGAGE</td><td>50000.0</td><td>OR</td><td>974xx</td><td>USA</td><td>B</td><td>B4</td><td>Verified</td><td>205539.0</td><td>Individual</td><td>null</td><td>null</td><td>2025-01-09 06:23:...</td></tr>\n",
       "<tr><td>df7dc625a71ce7014...</td><td>Sr. Environmental...</td><td>3</td><td>MORTGAGE</td><td>81250.0</td><td>TX</td><td>794xx</td><td>USA</td><td>B</td><td>B1</td><td>Source Verified</td><td>314383.0</td><td>Individual</td><td>null</td><td>null</td><td>2025-01-09 06:23:...</td></tr>\n",
       "<tr><td>486369e5c726f8509...</td><td>Residential Colle...</td><td>1</td><td>RENT</td><td>35000.0</td><td>IL</td><td>622xx</td><td>USA</td><td>A</td><td>A2</td><td>Not Verified</td><td>78128.0</td><td>Individual</td><td>null</td><td>null</td><td>2025-01-09 06:23:...</td></tr>\n",
       "<tr><td>e8e4fe3f0598f7d05...</td><td>null</td><td>6</td><td>MORTGAGE</td><td>125000.0</td><td>IN</td><td>469xx</td><td>USA</td><td>B</td><td>B1</td><td>Verified</td><td>226285.0</td><td>Individual</td><td>null</td><td>null</td><td>2025-01-09 06:23:...</td></tr>\n",
       "<tr><td>d790caf7cc7195e15...</td><td>Service Manager</td><td>2</td><td>RENT</td><td>105000.0</td><td>MA</td><td>015xx</td><td>USA</td><td>F</td><td>F1</td><td>Source Verified</td><td>52364.0</td><td>Individual</td><td>null</td><td>null</td><td>2025-01-09 06:23:...</td></tr>\n",
       "<tr><td>6b858c4a59da717d3...</td><td>Manager</td><td>9</td><td>RENT</td><td>98000.0</td><td>TN</td><td>372xx</td><td>USA</td><td>B</td><td>B2</td><td>Verified</td><td>201127.0</td><td>Individual</td><td>null</td><td>null</td><td>2025-01-09 06:23:...</td></tr>\n",
       "<tr><td>10d78ad039f032f32...</td><td>Division Controller</td><td>3</td><td>MORTGAGE</td><td>144000.0</td><td>TN</td><td>380xx</td><td>USA</td><td>A</td><td>A1</td><td>Not Verified</td><td>437754.0</td><td>Individual</td><td>null</td><td>null</td><td>2025-01-09 06:23:...</td></tr>\n",
       "</table>\n",
       "only showing top 20 rows\n"
      ],
      "text/plain": [
       "+--------------------+--------------------+----------+--------------+------------+----------+--------+-------+-----+---------+-------------------+---------------+----------------+------------------+-------------------------+--------------------+\n",
       "|           member_id|           emp_title|emp_length|home_ownership|annualincome|addr_state|zip_code|country|grade|sub_grade|verification_status|tot_hi_cred_lim|application_type|join_annual_income|verification_status_joint|         ingest_date|\n",
       "+--------------------+--------------------+----------+--------------+------------+----------+--------+-------+-----+---------+-------------------+---------------+----------------+------------------+-------------------------+--------------------+\n",
       "|ce565282b77977240...|Payroll Tax & Com...|         6|      MORTGAGE|     75000.0|        TN|   378xx|    USA|    C|       C1|       Not Verified|       163196.0|      Individual|              null|                     null|2025-01-09 06:23:...|\n",
       "|006fd0430a0446c16...|     Benefit Advisor|         1|           OWN|     52000.0|        FL|   346xx|    USA|    A|       A3|       Not Verified|        10900.0|      Individual|              null|                     null|2025-01-09 06:23:...|\n",
       "|970b4df92a9f46280...|     Project Manager|         7|          RENT|    145500.0|        CA|   941xx|    USA|    B|       B3|       Not Verified|        59981.0|      Individual|              null|                     null|2025-01-09 06:23:...|\n",
       "|9b20bd0723516a9bb...|          Grill chef|        10|          RENT|     45000.0|        NY|   104xx|    USA|    B|       B2|       Not Verified|        59681.0|      Individual|              null|                     null|2025-01-09 06:23:...|\n",
       "|7a344522f2caddbf6...|               Owner|         7|      MORTGAGE|     60000.0|        TX|   782xx|    USA|    C|       C4|       Not Verified|       145873.0|      Individual|              null|                     null|2025-01-09 06:23:...|\n",
       "|8b827b73cb0e1de93...|           Paramedic|         2|          RENT|     80000.0|        NY|   109xx|    USA|    C|       C2|       Not Verified|        59396.0|      Individual|              null|                     null|2025-01-09 06:23:...|\n",
       "|b4fcb61e297b1d2e3...|CDO Portfolio  Admin|         2|          RENT|     65000.0|        NJ|   073xx|    USA|    D|       D1|           Verified|       137280.0|      Individual|              null|                     null|2025-01-09 06:23:...|\n",
       "|33e0aff5109918d07...|             Stylist|        10|           OWN|     70000.0|        GA|   302xx|    USA|    C|       C5|    Source Verified|        33885.0|      Individual|              null|                     null|2025-01-09 06:23:...|\n",
       "|e4c075c49be59f096...|        Therapy aide|         1|          RENT|     25000.0|        NY|   131xx|    USA|    A|       A3|    Source Verified|        21503.0|      Individual|              null|                     null|2025-01-09 06:23:...|\n",
       "|4bac7991777bb9023...|   Creative Director|         5|      MORTGAGE|    150000.0|        OR|   972xx|    USA|    A|       A4|           Verified|        60730.0|       Joint App|          230000.0|             Not Verified|2025-01-09 06:23:...|\n",
       "|3434eea38f41a48d4...|                null|         6|          RENT|    110000.0|        NY|   106xx|    USA|    E|       E5|       Not Verified|        92566.0|      Individual|              null|                     null|2025-01-09 06:23:...|\n",
       "|4a9fd1d14cb37dea7...|     General Manager|         6|          RENT|     78000.0|        FL|   331xx|    USA|    A|       A4|       Not Verified|       142444.0|      Individual|              null|                     null|2025-01-09 06:23:...|\n",
       "|4b4d19a2e91fdf9cb...|      Used Car Buyer|         2|      MORTGAGE|     75000.0|        GA|   398xx|    USA|    C|       C1|       Not Verified|       134837.0|      Individual|              null|                     null|2025-01-09 06:23:...|\n",
       "|8f8fd7ff293283aaf...| Director of Nursing|        10|          RENT|     87000.0|        NE|   681xx|    USA|    A|       A2|    Source Verified|       101666.0|      Individual|              null|                     null|2025-01-09 06:23:...|\n",
       "|a4203924d165fe00d...|  Service Technician|         2|      MORTGAGE|     60000.0|        FL|   346xx|    USA|    B|       B5|    Source Verified|       167698.0|      Individual|              null|                     null|2025-01-09 06:23:...|\n",
       "|630ba03d6e76e84ad...|      OFFICE MANAGER|        10|      MORTGAGE|     40000.0|        FL|   329xx|    USA|    C|       C3|           Verified|       256593.0|      Individual|              null|                     null|2025-01-09 06:23:...|\n",
       "|c5bbf9eded7f08449...|           Law Clerk|         3|          RENT|     91000.0|        AZ|   852xx|    USA|    A|       A4|       Not Verified|       264712.0|      Individual|              null|                     null|2025-01-09 06:23:...|\n",
       "|8a0ac23c0a2eae59a...|                null|         6|           OWN|     12000.0|        FL|   335xx|    USA|    D|       D4|           Verified|         2500.0|      Individual|              null|                     null|2025-01-09 06:23:...|\n",
       "|d2ef8840654d78a20...|    Building Service|        10|          RENT|    100000.0|        NY|   104xx|    USA|    D|       D2|           Verified|        35100.0|      Individual|              null|                     null|2025-01-09 06:23:...|\n",
       "|b04033e53b835bab0...|   Account Executive|         4|           OWN|     80000.0|        MA|   020xx|    USA|    C|       C2|    Source Verified|        69480.0|      Individual|              null|                     null|2025-01-09 06:23:...|\n",
       "+--------------------+--------------------+----------+--------------+------------+----------+--------+-------+-----+---------+-------------------+---------------+----------------+------------------+-------------------------+--------------------+\n",
       "only showing top 20 rows"
      ]
     },
     "execution_count": 30,
     "metadata": {},
     "output_type": "execute_result"
    }
   ],
   "source": [
    "customers_emplength_replaced"
   ]
  },
  {
   "cell_type": "code",
   "execution_count": 31,
   "id": "861adfd1",
   "metadata": {},
   "outputs": [],
   "source": [
    "customers_emplength_replaced.createOrReplaceTempView(\"customers\")"
   ]
  },
  {
   "cell_type": "code",
   "execution_count": 32,
   "id": "79863f20",
   "metadata": {},
   "outputs": [
    {
     "data": {
      "text/html": [
       "<table border='1'>\n",
       "<tr><th>addr_state</th></tr>\n",
       "<tr><td>Helping Kenya&#x27;s D...</td></tr>\n",
       "<tr><td>223xx</td></tr>\n",
       "<tr><td>175 (total projec...</td></tr>\n",
       "<tr><td>SC</td></tr>\n",
       "<tr><td>AZ</td></tr>\n",
       "<tr><td>I am 56 yrs. old ...</td></tr>\n",
       "<tr><td>so Plan &quot;&quot;C&quot;&quot; is ...</td></tr>\n",
       "<tr><td>financially I mad...</td></tr>\n",
       "<tr><td>but no one will l...</td></tr>\n",
       "<tr><td>LA</td></tr>\n",
       "</table>\n"
      ],
      "text/plain": [
       "+--------------------+\n",
       "|          addr_state|\n",
       "+--------------------+\n",
       "|Helping Kenya's D...|\n",
       "|175 (total projec...|\n",
       "|               223xx|\n",
       "|                  AZ|\n",
       "|                  SC|\n",
       "|so Plan \"\"C\"\" is ...|\n",
       "|I am 56 yrs. old ...|\n",
       "|financially I mad...|\n",
       "|but no one will l...|\n",
       "|                  LA|\n",
       "+--------------------+"
      ]
     },
     "execution_count": 32,
     "metadata": {},
     "output_type": "execute_result"
    }
   ],
   "source": [
    "spark.sql(\"select distinct(addr_state) from customers\").limit(10)"
   ]
  },
  {
   "cell_type": "code",
   "execution_count": 33,
   "id": "a714c351",
   "metadata": {},
   "outputs": [
    {
     "data": {
      "text/html": [
       "<table border='1'>\n",
       "<tr><th>count(addr_state)</th></tr>\n",
       "<tr><td>255</td></tr>\n",
       "</table>\n"
      ],
      "text/plain": [
       "+-----------------+\n",
       "|count(addr_state)|\n",
       "+-----------------+\n",
       "|              255|\n",
       "+-----------------+"
      ]
     },
     "execution_count": 33,
     "metadata": {},
     "output_type": "execute_result"
    }
   ],
   "source": [
    "spark.sql(\"select count(addr_state) from customers where length(addr_state)>2\")"
   ]
  },
  {
   "cell_type": "code",
   "execution_count": 34,
   "id": "da72f7eb",
   "metadata": {},
   "outputs": [],
   "source": [
    "from pyspark.sql.functions import when, col, length"
   ]
  },
  {
   "cell_type": "code",
   "execution_count": 35,
   "id": "0d1f3030",
   "metadata": {},
   "outputs": [],
   "source": [
    "customers_state_cleaned = customers_emplength_replaced.withColumn(\n",
    "    \"address_state\",\n",
    "    when(length(col(\"addr_state\"))> 2, \"NA\").otherwise(col(\"addr_state\"))\n",
    ")"
   ]
  },
  {
   "cell_type": "code",
   "execution_count": 36,
   "id": "f7a985ad",
   "metadata": {},
   "outputs": [
    {
     "data": {
      "text/html": [
       "<table border='1'>\n",
       "<tr><th>member_id</th><th>emp_title</th><th>emp_length</th><th>home_ownership</th><th>annualincome</th><th>addr_state</th><th>zip_code</th><th>country</th><th>grade</th><th>sub_grade</th><th>verification_status</th><th>tot_hi_cred_lim</th><th>application_type</th><th>join_annual_income</th><th>verification_status_joint</th><th>ingest_date</th><th>address_state</th></tr>\n",
       "<tr><td>2876c04fcfc9f5c22...</td><td>Home care</td><td>7</td><td>MORTGAGE</td><td>48000.0</td><td>NV</td><td>890xx</td><td>USA</td><td>C</td><td>C1</td><td>Source Verified</td><td>225700.0</td><td>Joint App</td><td>98000.0</td><td>Source Verified</td><td>2025-01-09 06:24:...</td><td>NV</td></tr>\n",
       "<tr><td>b882202a058500b40...</td><td>Technician</td><td>2</td><td>RENT</td><td>36000.0</td><td>CA</td><td>913xx</td><td>USA</td><td>B</td><td>B5</td><td>Not Verified</td><td>10300.0</td><td>Individual</td><td>null</td><td>null</td><td>2025-01-09 06:24:...</td><td>CA</td></tr>\n",
       "<tr><td>3407259d06d62b74b...</td><td>Vice President</td><td>3</td><td>RENT</td><td>112000.0</td><td>CA</td><td>917xx</td><td>USA</td><td>A</td><td>A5</td><td>Source Verified</td><td>62967.0</td><td>Individual</td><td>null</td><td>null</td><td>2025-01-09 06:24:...</td><td>CA</td></tr>\n",
       "<tr><td>7d1ae9f56877cd7f7...</td><td>Senior Constructi...</td><td>7</td><td>MORTGAGE</td><td>84000.0</td><td>MD</td><td>216xx</td><td>USA</td><td>B</td><td>B1</td><td>Not Verified</td><td>531828.0</td><td>Individual</td><td>null</td><td>null</td><td>2025-01-09 06:24:...</td><td>MD</td></tr>\n",
       "<tr><td>c365eed5b21a6b8c1...</td><td>Assiant Cordinator</td><td>10</td><td>RENT</td><td>62000.0</td><td>TX</td><td>770xx</td><td>USA</td><td>D</td><td>D1</td><td>Not Verified</td><td>27500.0</td><td>Individual</td><td>null</td><td>null</td><td>2025-01-09 06:24:...</td><td>TX</td></tr>\n",
       "<tr><td>36ab9c627f8b610a9...</td><td>Receptionist</td><td>10</td><td>RENT</td><td>15857.0</td><td>PA</td><td>191xx</td><td>USA</td><td>D</td><td>D4</td><td>Verified</td><td>16900.0</td><td>Individual</td><td>null</td><td>null</td><td>2025-01-09 06:24:...</td><td>PA</td></tr>\n",
       "<tr><td>8ee121e3aa1238fe5...</td><td>truck driver</td><td>3</td><td>OWN</td><td>65000.0</td><td>MN</td><td>559xx</td><td>USA</td><td>D</td><td>D3</td><td>Verified</td><td>125618.0</td><td>Individual</td><td>null</td><td>null</td><td>2025-01-09 06:24:...</td><td>MN</td></tr>\n",
       "<tr><td>b38fc9fe4515eba43...</td><td>MLS</td><td>10</td><td>MORTGAGE</td><td>56000.0</td><td>LA</td><td>713xx</td><td>USA</td><td>B</td><td>B3</td><td>Verified</td><td>242322.0</td><td>Individual</td><td>null</td><td>null</td><td>2025-01-09 06:24:...</td><td>LA</td></tr>\n",
       "<tr><td>629d231432cc6fb39...</td><td>null</td><td>6</td><td>MORTGAGE</td><td>41531.76</td><td>IL</td><td>604xx</td><td>USA</td><td>C</td><td>C2</td><td>Source Verified</td><td>15100.0</td><td>Individual</td><td>null</td><td>null</td><td>2025-01-09 06:24:...</td><td>IL</td></tr>\n",
       "<tr><td>24f3de8999f8b4379...</td><td>null</td><td>6</td><td>RENT</td><td>71000.0</td><td>CA</td><td>936xx</td><td>USA</td><td>D</td><td>D5</td><td>Source Verified</td><td>53774.0</td><td>Individual</td><td>null</td><td>null</td><td>2025-01-09 06:24:...</td><td>CA</td></tr>\n",
       "<tr><td>310959b6b852df126...</td><td>Floor technician</td><td>10</td><td>RENT</td><td>52000.0</td><td>MD</td><td>212xx</td><td>USA</td><td>B</td><td>B3</td><td>Not Verified</td><td>38105.0</td><td>Individual</td><td>null</td><td>null</td><td>2025-01-09 06:24:...</td><td>MD</td></tr>\n",
       "<tr><td>316fec419304cc8da...</td><td>Recruiting Manager</td><td>1</td><td>MORTGAGE</td><td>80000.0</td><td>MO</td><td>633xx</td><td>USA</td><td>D</td><td>D3</td><td>Source Verified</td><td>134194.0</td><td>Individual</td><td>null</td><td>null</td><td>2025-01-09 06:24:...</td><td>MO</td></tr>\n",
       "<tr><td>611dfa589fcb493cd...</td><td>Police Detective</td><td>10</td><td>MORTGAGE</td><td>95000.0</td><td>TX</td><td>762xx</td><td>USA</td><td>B</td><td>B1</td><td>Verified</td><td>431823.0</td><td>Individual</td><td>null</td><td>null</td><td>2025-01-09 06:24:...</td><td>TX</td></tr>\n",
       "<tr><td>04b156646443cb576...</td><td>Audio Video Speci...</td><td>9</td><td>MORTGAGE</td><td>57000.0</td><td>FL</td><td>325xx</td><td>USA</td><td>B</td><td>B4</td><td>Verified</td><td>268639.0</td><td>Individual</td><td>null</td><td>null</td><td>2025-01-09 06:24:...</td><td>FL</td></tr>\n",
       "<tr><td>936ade321beef265d...</td><td>Maintenance super...</td><td>10</td><td>MORTGAGE</td><td>132000.0</td><td>LA</td><td>703xx</td><td>USA</td><td>C</td><td>C5</td><td>Not Verified</td><td>392687.0</td><td>Individual</td><td>null</td><td>null</td><td>2025-01-09 06:24:...</td><td>LA</td></tr>\n",
       "<tr><td>9aa9895a4b38031a2...</td><td>manager</td><td>8</td><td>RENT</td><td>45000.0</td><td>CA</td><td>956xx</td><td>USA</td><td>B</td><td>B5</td><td>Not Verified</td><td>34600.0</td><td>Individual</td><td>null</td><td>null</td><td>2025-01-09 06:24:...</td><td>CA</td></tr>\n",
       "<tr><td>563785d94e7c7c3ee...</td><td>Owner</td><td>10</td><td>RENT</td><td>37555.0</td><td>FL</td><td>327xx</td><td>USA</td><td>B</td><td>B3</td><td>Not Verified</td><td>30677.0</td><td>Individual</td><td>null</td><td>null</td><td>2025-01-09 06:24:...</td><td>FL</td></tr>\n",
       "<tr><td>c3f1beac2d6288f77...</td><td>Beverage Director...</td><td>2</td><td>RENT</td><td>60000.0</td><td>FL</td><td>330xx</td><td>USA</td><td>B</td><td>B4</td><td>Source Verified</td><td>32425.0</td><td>Individual</td><td>null</td><td>null</td><td>2025-01-09 06:24:...</td><td>FL</td></tr>\n",
       "<tr><td>5024d5b340c2871aa...</td><td>Sr Accountant</td><td>10</td><td>RENT</td><td>80000.0</td><td>IL</td><td>600xx</td><td>USA</td><td>C</td><td>C2</td><td>Not Verified</td><td>365173.0</td><td>Individual</td><td>null</td><td>null</td><td>2025-01-09 06:24:...</td><td>IL</td></tr>\n",
       "<tr><td>b76b3fdb820256820...</td><td>null</td><td>6</td><td>MORTGAGE</td><td>31000.0</td><td>NY</td><td>123xx</td><td>USA</td><td>B</td><td>B4</td><td>Verified</td><td>176880.0</td><td>Individual</td><td>null</td><td>null</td><td>2025-01-09 06:24:...</td><td>NY</td></tr>\n",
       "</table>\n",
       "only showing top 20 rows\n"
      ],
      "text/plain": [
       "+--------------------+--------------------+----------+--------------+------------+----------+--------+-------+-----+---------+-------------------+---------------+----------------+------------------+-------------------------+--------------------+-------------+\n",
       "|           member_id|           emp_title|emp_length|home_ownership|annualincome|addr_state|zip_code|country|grade|sub_grade|verification_status|tot_hi_cred_lim|application_type|join_annual_income|verification_status_joint|         ingest_date|address_state|\n",
       "+--------------------+--------------------+----------+--------------+------------+----------+--------+-------+-----+---------+-------------------+---------------+----------------+------------------+-------------------------+--------------------+-------------+\n",
       "|1cea9c5551fa995ec...|Veterinary techni...|        10|      MORTGAGE|     43000.0|        NY|   130xx|    USA|    B|       B1|           Verified|       144743.0|      Individual|              null|                     null|2025-01-09 06:24:...|           NY|\n",
       "|6dec81a10225e11c6...|       Publisher/CEO|        10|      MORTGAGE|    265000.0|        OH|   446xx|    USA|    D|       D3|           Verified|       511498.0|      Individual|              null|                     null|2025-01-09 06:24:...|           OH|\n",
       "|b3bf7e8b5c04254b8...|Commercial Underw...|         6|           OWN|    104000.0|        FL|   330xx|    USA|    C|       C1|    Source Verified|       307505.0|      Individual|              null|                     null|2025-01-09 06:24:...|           FL|\n",
       "|265378f9911d8c927...|                null|         6|      MORTGAGE|     14000.0|        TX|   773xx|    USA|    B|       B4|           Verified|       124921.0|       Joint App|           70430.0|                 Verified|2025-01-09 06:24:...|           TX|\n",
       "|130a538e145ff3be4...|Financial Adminis...|         4|          RENT|     75000.0|        NJ|   088xx|    USA|    B|       B4|    Source Verified|        34268.0|      Individual|              null|                     null|2025-01-09 06:24:...|           NJ|\n",
       "|12fd9dad64185fc34...|Production Associ...|        10|      MORTGAGE|     85200.0|        OR|   973xx|    USA|    B|       B3|       Not Verified|       350601.0|      Individual|              null|                     null|2025-01-09 06:24:...|           OR|\n",
       "|832c1f038f706f684...|     human resources|         1|      MORTGAGE|     45000.0|        KS|   671xx|    USA|    B|       B2|           Verified|       168716.0|      Individual|              null|                     null|2025-01-09 06:24:...|           KS|\n",
       "|0a8c4f4be163406b0...|      Superintendent|        10|      MORTGAGE|    138000.0|        PA|   170xx|    USA|    A|       A1|    Source Verified|       835122.0|       Joint App|          246000.0|                     null|2025-01-09 06:24:...|           PA|\n",
       "|649bf49b0f416d2ce...|Computer Technolo...|        10|           OWN|     55040.0|        TN|   385xx|    USA|    B|       B4|    Source Verified|        92551.0|      Individual|              null|                     null|2025-01-09 06:24:...|           TN|\n",
       "|620e60e4ec35663b5...|                  E4|         3|          RENT|     39360.0|        NV|   891xx|    USA|    B|       B5|    Source Verified|        99801.0|      Individual|              null|                     null|2025-01-09 06:24:...|           NV|\n",
       "|d42346e097e41d706...| Classified AD sales|         3|      MORTGAGE|     42000.0|        MN|   553xx|    USA|    A|       A4|           Verified|       296618.0|      Individual|              null|                     null|2025-01-09 06:24:...|           MN|\n",
       "|cd0825d8143943fd5...|      Office manager|        10|      MORTGAGE|     81000.0|        MI|   494xx|    USA|    A|       A2|       Not Verified|       399296.0|      Individual|              null|                     null|2025-01-09 06:24:...|           MI|\n",
       "|94704287d4201994d...|Licensed Massage ...|         3|           OWN|     60000.0|        TX|   765xx|    USA|    A|       A2|       Not Verified|        97261.0|      Individual|              null|                     null|2025-01-09 06:24:...|           TX|\n",
       "|9a7d138da78652733...|        House person|         8|          RENT|     40000.0|        NV|   891xx|    USA|    C|       C5|    Source Verified|        36316.0|      Individual|              null|                     null|2025-01-09 06:24:...|           NV|\n",
       "|5275f8ed9623b7f26...|Veterans Service Rep|        10|      MORTGAGE|     80000.0|        LA|   701xx|    USA|    A|       A1|       Not Verified|       152965.0|      Individual|              null|                     null|2025-01-09 06:24:...|           LA|\n",
       "|c0cd985687bcbb46b...|    Registered nurse|         9|      MORTGAGE|     88000.0|        WA|   983xx|    USA|    F|       F5|           Verified|       116827.0|      Individual|              null|                     null|2025-01-09 06:24:...|           WA|\n",
       "|0034edb4ce605da1e...|       IT technician|        10|          RENT|     65000.0|        CA|   922xx|    USA|    A|       A3|       Not Verified|       160676.0|      Individual|              null|                     null|2025-01-09 06:24:...|           CA|\n",
       "|0a7a1d70565dbadb9...|     Project Manager|         5|      MORTGAGE|    200000.0|        CA|   958xx|    USA|    A|       A4|           Verified|       242230.0|      Individual|              null|                     null|2025-01-09 06:24:...|           CA|\n",
       "|d3fdaf41099f4cbd3...|Administrative As...|        10|          RENT|     80000.0|        MD|   207xx|    USA|    A|       A3|       Not Verified|        99100.0|      Individual|              null|                     null|2025-01-09 06:24:...|           MD|\n",
       "|9278c3a5dcbdeb60f...|                null|         6|          RENT|     61380.0|        MD|   206xx|    USA|    B|       B5|           Verified|        73685.0|      Individual|              null|                     null|2025-01-09 06:24:...|           MD|\n",
       "+--------------------+--------------------+----------+--------------+------------+----------+--------+-------+-----+---------+-------------------+---------------+----------------+------------------+-------------------------+--------------------+-------------+\n",
       "only showing top 20 rows"
      ]
     },
     "execution_count": 36,
     "metadata": {},
     "output_type": "execute_result"
    }
   ],
   "source": [
    "customers_state_cleaned"
   ]
  },
  {
   "cell_type": "code",
   "execution_count": 37,
   "id": "d61d492a",
   "metadata": {},
   "outputs": [],
   "source": [
    "customers_state_cleaned.write \\\n",
    ".format(\"parquet\") \\\n",
    ".mode(\"overwrite\") \\\n",
    ".option(\"path\", \"/user/itv016245/lendingclubproject/raw/cleaned/customers_parquet\") \\\n",
    ".save()"
   ]
  },
  {
   "cell_type": "code",
   "execution_count": 38,
   "id": "d306fe29",
   "metadata": {},
   "outputs": [],
   "source": [
    "customers_state_cleaned.write \\\n",
    ".option(\"header\", True) \\\n",
    ".format(\"csv\") \\\n",
    ".mode(\"overwrite\") \\\n",
    ".option(\"path\", \"/user/itv016245/lendingclubproject/raw/cleaned/customers_csv\") \\\n",
    ".save()"
   ]
  },
  {
   "cell_type": "code",
   "execution_count": null,
   "id": "9aaf9e42",
   "metadata": {},
   "outputs": [],
   "source": []
  }
 ],
 "metadata": {
  "kernelspec": {
   "display_name": "Pyspark 3",
   "language": "python",
   "name": "pyspark3"
  },
  "language_info": {
   "codemirror_mode": {
    "name": "ipython",
    "version": 3
   },
   "file_extension": ".py",
   "mimetype": "text/x-python",
   "name": "python",
   "nbconvert_exporter": "python",
   "pygments_lexer": "ipython3",
   "version": "3.6.12"
  }
 },
 "nbformat": 4,
 "nbformat_minor": 5
}
